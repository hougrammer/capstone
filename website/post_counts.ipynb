{
 "cells": [
  {
   "cell_type": "code",
   "execution_count": 1,
   "metadata": {},
   "outputs": [],
   "source": [
    "import warnings\n",
    "warnings.filterwarnings('ignore')\n",
    "import numpy as np\n",
    "import pandas as pd\n",
    "import pickle\n",
    "from time import time"
   ]
  },
  {
   "cell_type": "code",
   "execution_count": 2,
   "metadata": {},
   "outputs": [
    {
     "name": "stdout",
     "output_type": "stream",
     "text": [
      "Loading post counts...\n",
      "loaded 51278 embeddings in 0.295137882232666 s\n"
     ]
    }
   ],
   "source": [
    "counts = {}\n",
    "print('Loading post counts...')\n",
    "t = time()\n",
    "with open('app/data/post_counts.pickle', 'rb') as handle:\n",
    "    counts.update(pickle.load(handle))\n",
    "print('loaded {} embeddings in {} s'.format(len(counts), time() - t))"
   ]
  },
  {
   "cell_type": "code",
   "execution_count": 7,
   "metadata": {},
   "outputs": [
    {
     "data": {
      "text/plain": [
       "51278"
      ]
     },
     "execution_count": 7,
     "metadata": {},
     "output_type": "execute_result"
    }
   ],
   "source": [
    "len(counts)"
   ]
  },
  {
   "cell_type": "code",
   "execution_count": 8,
   "metadata": {},
   "outputs": [],
   "source": [
    "s = sorted(counts.keys(), key=lambda x: sum(counts[x]))"
   ]
  },
  {
   "cell_type": "code",
   "execution_count": 10,
   "metadata": {},
   "outputs": [
    {
     "data": {
      "text/plain": [
       "['me_irl',\n",
       " 'dirtykikpals',\n",
       " 'funny',\n",
       " 'newsbotbot',\n",
       " 'showerthoughts',\n",
       " 'ice_poseidon',\n",
       " 'rocketleagueexchange',\n",
       " 'the_donald',\n",
       " 'autonewspaper',\n",
       " 'askreddit']"
      ]
     },
     "execution_count": 10,
     "metadata": {},
     "output_type": "execute_result"
    }
   ],
   "source": [
    "s[-10:]"
   ]
  },
  {
   "cell_type": "code",
   "execution_count": 15,
   "metadata": {},
   "outputs": [
    {
     "name": "stdout",
     "output_type": "stream",
     "text": [
      "spam 0.0\n"
     ]
    }
   ],
   "source": [
    "print(s[0], sum(counts[s[0]]))"
   ]
  },
  {
   "cell_type": "code",
   "execution_count": 16,
   "metadata": {},
   "outputs": [
    {
     "name": "stdout",
     "output_type": "stream",
     "text": [
      "askreddit 3004130.0\n"
     ]
    }
   ],
   "source": [
    "print(s[-1], sum(counts[s[-1]]))"
   ]
  },
  {
   "cell_type": "code",
   "execution_count": 17,
   "metadata": {},
   "outputs": [
    {
     "name": "stdout",
     "output_type": "stream",
     "text": [
      "16056.0\n"
     ]
    }
   ],
   "source": [
    "print(max(max(row) for row in counts.values()))"
   ]
  },
  {
   "cell_type": "code",
   "execution_count": 3,
   "metadata": {},
   "outputs": [
    {
     "name": "stdout",
     "output_type": "stream",
     "text": [
      "CPU times: user 34.5 ms, sys: 8.96 ms, total: 43.4 ms\n",
      "Wall time: 42 ms\n"
     ]
    }
   ],
   "source": [
    "%%time\n",
    "for k in counts:\n",
    "    counts[k] = counts[k][:365]"
   ]
  },
  {
   "cell_type": "code",
   "execution_count": 13,
   "metadata": {},
   "outputs": [
    {
     "data": {
      "text/plain": [
       "365"
      ]
     },
     "execution_count": 13,
     "metadata": {},
     "output_type": "execute_result"
    }
   ],
   "source": [
    "len(counts['askreddit'])"
   ]
  },
  {
   "cell_type": "code",
   "execution_count": 4,
   "metadata": {},
   "outputs": [],
   "source": [
    "with open('app/data/post_counts.pickle', 'wb') as handle:\n",
    "    pickle.dump(counts, handle, protocol=pickle.HIGHEST_PROTOCOL)"
   ]
  },
  {
   "cell_type": "code",
   "execution_count": 3,
   "metadata": {},
   "outputs": [],
   "source": [
    "df = pd.read_csv('app/data/post_counts.csv')"
   ]
  },
  {
   "cell_type": "code",
   "execution_count": 4,
   "metadata": {},
   "outputs": [
    {
     "data": {
      "text/html": [
       "<div>\n",
       "<style scoped>\n",
       "    .dataframe tbody tr th:only-of-type {\n",
       "        vertical-align: middle;\n",
       "    }\n",
       "\n",
       "    .dataframe tbody tr th {\n",
       "        vertical-align: top;\n",
       "    }\n",
       "\n",
       "    .dataframe thead th {\n",
       "        text-align: right;\n",
       "    }\n",
       "</style>\n",
       "<table border=\"1\" class=\"dataframe\">\n",
       "  <thead>\n",
       "    <tr style=\"text-align: right;\">\n",
       "      <th></th>\n",
       "      <th>subreddit</th>\n",
       "      <th>day</th>\n",
       "      <th>total</th>\n",
       "    </tr>\n",
       "  </thead>\n",
       "  <tbody>\n",
       "    <tr>\n",
       "      <th>0</th>\n",
       "      <td>CircleofTrust</td>\n",
       "      <td>92</td>\n",
       "      <td>192789</td>\n",
       "    </tr>\n",
       "    <tr>\n",
       "      <th>1</th>\n",
       "      <td>CircleofTrust</td>\n",
       "      <td>93</td>\n",
       "      <td>139672</td>\n",
       "    </tr>\n",
       "    <tr>\n",
       "      <th>2</th>\n",
       "      <td>thanosdidnothingwrong</td>\n",
       "      <td>190</td>\n",
       "      <td>119575</td>\n",
       "    </tr>\n",
       "    <tr>\n",
       "      <th>3</th>\n",
       "      <td>CircleofTrust</td>\n",
       "      <td>94</td>\n",
       "      <td>55236</td>\n",
       "    </tr>\n",
       "    <tr>\n",
       "      <th>4</th>\n",
       "      <td>thanosdidnothingwrong</td>\n",
       "      <td>189</td>\n",
       "      <td>41484</td>\n",
       "    </tr>\n",
       "    <tr>\n",
       "      <th>5</th>\n",
       "      <td>CircleofTrust</td>\n",
       "      <td>95</td>\n",
       "      <td>30424</td>\n",
       "    </tr>\n",
       "    <tr>\n",
       "      <th>6</th>\n",
       "      <td>movietvreview</td>\n",
       "      <td>272</td>\n",
       "      <td>23004</td>\n",
       "    </tr>\n",
       "    <tr>\n",
       "      <th>7</th>\n",
       "      <td>inthesoulstone</td>\n",
       "      <td>190</td>\n",
       "      <td>20621</td>\n",
       "    </tr>\n",
       "    <tr>\n",
       "      <th>8</th>\n",
       "      <td>u_Head_Evidence</td>\n",
       "      <td>264</td>\n",
       "      <td>17634</td>\n",
       "    </tr>\n",
       "    <tr>\n",
       "      <th>9</th>\n",
       "      <td>u_TallPrune</td>\n",
       "      <td>264</td>\n",
       "      <td>17606</td>\n",
       "    </tr>\n",
       "  </tbody>\n",
       "</table>\n",
       "</div>"
      ],
      "text/plain": [
       "               subreddit  day   total\n",
       "0          CircleofTrust   92  192789\n",
       "1          CircleofTrust   93  139672\n",
       "2  thanosdidnothingwrong  190  119575\n",
       "3          CircleofTrust   94   55236\n",
       "4  thanosdidnothingwrong  189   41484\n",
       "5          CircleofTrust   95   30424\n",
       "6          movietvreview  272   23004\n",
       "7         inthesoulstone  190   20621\n",
       "8        u_Head_Evidence  264   17634\n",
       "9            u_TallPrune  264   17606"
      ]
     },
     "execution_count": 4,
     "metadata": {},
     "output_type": "execute_result"
    }
   ],
   "source": [
    "df.head(10)"
   ]
  },
  {
   "cell_type": "code",
   "execution_count": 7,
   "metadata": {},
   "outputs": [
    {
     "name": "stdout",
     "output_type": "stream",
     "text": [
      "CPU times: user 5 µs, sys: 0 ns, total: 5 µs\n",
      "Wall time: 8.34 µs\n"
     ]
    }
   ],
   "source": [
    "%%time\n",
    "pivot = df.pivot(index='subreddit', columns='day', values='total')"
   ]
  },
  {
   "cell_type": "code",
   "execution_count": 10,
   "metadata": {},
   "outputs": [
    {
     "data": {
      "text/html": [
       "<div>\n",
       "<style scoped>\n",
       "    .dataframe tbody tr th:only-of-type {\n",
       "        vertical-align: middle;\n",
       "    }\n",
       "\n",
       "    .dataframe tbody tr th {\n",
       "        vertical-align: top;\n",
       "    }\n",
       "\n",
       "    .dataframe thead th {\n",
       "        text-align: right;\n",
       "    }\n",
       "</style>\n",
       "<table border=\"1\" class=\"dataframe\">\n",
       "  <thead>\n",
       "    <tr style=\"text-align: right;\">\n",
       "      <th>day</th>\n",
       "      <th>1</th>\n",
       "      <th>2</th>\n",
       "      <th>3</th>\n",
       "      <th>4</th>\n",
       "      <th>5</th>\n",
       "      <th>6</th>\n",
       "      <th>7</th>\n",
       "      <th>8</th>\n",
       "      <th>9</th>\n",
       "      <th>10</th>\n",
       "      <th>...</th>\n",
       "      <th>356</th>\n",
       "      <th>357</th>\n",
       "      <th>358</th>\n",
       "      <th>359</th>\n",
       "      <th>360</th>\n",
       "      <th>361</th>\n",
       "      <th>362</th>\n",
       "      <th>363</th>\n",
       "      <th>364</th>\n",
       "      <th>365</th>\n",
       "    </tr>\n",
       "    <tr>\n",
       "      <th>subreddit</th>\n",
       "      <th></th>\n",
       "      <th></th>\n",
       "      <th></th>\n",
       "      <th></th>\n",
       "      <th></th>\n",
       "      <th></th>\n",
       "      <th></th>\n",
       "      <th></th>\n",
       "      <th></th>\n",
       "      <th></th>\n",
       "      <th></th>\n",
       "      <th></th>\n",
       "      <th></th>\n",
       "      <th></th>\n",
       "      <th></th>\n",
       "      <th></th>\n",
       "      <th></th>\n",
       "      <th></th>\n",
       "      <th></th>\n",
       "      <th></th>\n",
       "      <th></th>\n",
       "    </tr>\n",
       "  </thead>\n",
       "  <tbody>\n",
       "    <tr>\n",
       "      <td>*cohold00009</td>\n",
       "      <td>NaN</td>\n",
       "      <td>NaN</td>\n",
       "      <td>NaN</td>\n",
       "      <td>NaN</td>\n",
       "      <td>NaN</td>\n",
       "      <td>NaN</td>\n",
       "      <td>NaN</td>\n",
       "      <td>NaN</td>\n",
       "      <td>NaN</td>\n",
       "      <td>NaN</td>\n",
       "      <td>...</td>\n",
       "      <td>NaN</td>\n",
       "      <td>NaN</td>\n",
       "      <td>NaN</td>\n",
       "      <td>NaN</td>\n",
       "      <td>NaN</td>\n",
       "      <td>NaN</td>\n",
       "      <td>NaN</td>\n",
       "      <td>NaN</td>\n",
       "      <td>NaN</td>\n",
       "      <td>NaN</td>\n",
       "    </tr>\n",
       "    <tr>\n",
       "      <td>*polhold00214</td>\n",
       "      <td>NaN</td>\n",
       "      <td>NaN</td>\n",
       "      <td>NaN</td>\n",
       "      <td>NaN</td>\n",
       "      <td>NaN</td>\n",
       "      <td>NaN</td>\n",
       "      <td>NaN</td>\n",
       "      <td>NaN</td>\n",
       "      <td>NaN</td>\n",
       "      <td>NaN</td>\n",
       "      <td>...</td>\n",
       "      <td>NaN</td>\n",
       "      <td>NaN</td>\n",
       "      <td>NaN</td>\n",
       "      <td>NaN</td>\n",
       "      <td>NaN</td>\n",
       "      <td>NaN</td>\n",
       "      <td>NaN</td>\n",
       "      <td>NaN</td>\n",
       "      <td>NaN</td>\n",
       "      <td>NaN</td>\n",
       "    </tr>\n",
       "    <tr>\n",
       "      <td>*polhold999999</td>\n",
       "      <td>NaN</td>\n",
       "      <td>NaN</td>\n",
       "      <td>NaN</td>\n",
       "      <td>NaN</td>\n",
       "      <td>NaN</td>\n",
       "      <td>NaN</td>\n",
       "      <td>NaN</td>\n",
       "      <td>NaN</td>\n",
       "      <td>NaN</td>\n",
       "      <td>NaN</td>\n",
       "      <td>...</td>\n",
       "      <td>NaN</td>\n",
       "      <td>NaN</td>\n",
       "      <td>NaN</td>\n",
       "      <td>NaN</td>\n",
       "      <td>NaN</td>\n",
       "      <td>NaN</td>\n",
       "      <td>NaN</td>\n",
       "      <td>NaN</td>\n",
       "      <td>NaN</td>\n",
       "      <td>NaN</td>\n",
       "    </tr>\n",
       "    <tr>\n",
       "      <td>*tmhold00193</td>\n",
       "      <td>NaN</td>\n",
       "      <td>NaN</td>\n",
       "      <td>NaN</td>\n",
       "      <td>NaN</td>\n",
       "      <td>NaN</td>\n",
       "      <td>NaN</td>\n",
       "      <td>NaN</td>\n",
       "      <td>NaN</td>\n",
       "      <td>NaN</td>\n",
       "      <td>NaN</td>\n",
       "      <td>...</td>\n",
       "      <td>NaN</td>\n",
       "      <td>NaN</td>\n",
       "      <td>NaN</td>\n",
       "      <td>NaN</td>\n",
       "      <td>NaN</td>\n",
       "      <td>NaN</td>\n",
       "      <td>NaN</td>\n",
       "      <td>NaN</td>\n",
       "      <td>NaN</td>\n",
       "      <td>NaN</td>\n",
       "    </tr>\n",
       "    <tr>\n",
       "      <td>*tmhold00340</td>\n",
       "      <td>NaN</td>\n",
       "      <td>NaN</td>\n",
       "      <td>NaN</td>\n",
       "      <td>NaN</td>\n",
       "      <td>NaN</td>\n",
       "      <td>NaN</td>\n",
       "      <td>NaN</td>\n",
       "      <td>NaN</td>\n",
       "      <td>NaN</td>\n",
       "      <td>NaN</td>\n",
       "      <td>...</td>\n",
       "      <td>NaN</td>\n",
       "      <td>NaN</td>\n",
       "      <td>NaN</td>\n",
       "      <td>NaN</td>\n",
       "      <td>NaN</td>\n",
       "      <td>NaN</td>\n",
       "      <td>NaN</td>\n",
       "      <td>NaN</td>\n",
       "      <td>NaN</td>\n",
       "      <td>NaN</td>\n",
       "    </tr>\n",
       "    <tr>\n",
       "      <td>...</td>\n",
       "      <td>...</td>\n",
       "      <td>...</td>\n",
       "      <td>...</td>\n",
       "      <td>...</td>\n",
       "      <td>...</td>\n",
       "      <td>...</td>\n",
       "      <td>...</td>\n",
       "      <td>...</td>\n",
       "      <td>...</td>\n",
       "      <td>...</td>\n",
       "      <td>...</td>\n",
       "      <td>...</td>\n",
       "      <td>...</td>\n",
       "      <td>...</td>\n",
       "      <td>...</td>\n",
       "      <td>...</td>\n",
       "      <td>...</td>\n",
       "      <td>...</td>\n",
       "      <td>...</td>\n",
       "      <td>...</td>\n",
       "      <td>...</td>\n",
       "    </tr>\n",
       "    <tr>\n",
       "      <td>zzzz</td>\n",
       "      <td>NaN</td>\n",
       "      <td>NaN</td>\n",
       "      <td>NaN</td>\n",
       "      <td>NaN</td>\n",
       "      <td>NaN</td>\n",
       "      <td>1.0</td>\n",
       "      <td>NaN</td>\n",
       "      <td>NaN</td>\n",
       "      <td>NaN</td>\n",
       "      <td>NaN</td>\n",
       "      <td>...</td>\n",
       "      <td>NaN</td>\n",
       "      <td>NaN</td>\n",
       "      <td>NaN</td>\n",
       "      <td>NaN</td>\n",
       "      <td>NaN</td>\n",
       "      <td>NaN</td>\n",
       "      <td>1.0</td>\n",
       "      <td>NaN</td>\n",
       "      <td>NaN</td>\n",
       "      <td>NaN</td>\n",
       "    </tr>\n",
       "    <tr>\n",
       "      <td>zzzzz</td>\n",
       "      <td>NaN</td>\n",
       "      <td>NaN</td>\n",
       "      <td>NaN</td>\n",
       "      <td>NaN</td>\n",
       "      <td>NaN</td>\n",
       "      <td>NaN</td>\n",
       "      <td>NaN</td>\n",
       "      <td>NaN</td>\n",
       "      <td>NaN</td>\n",
       "      <td>NaN</td>\n",
       "      <td>...</td>\n",
       "      <td>NaN</td>\n",
       "      <td>NaN</td>\n",
       "      <td>NaN</td>\n",
       "      <td>NaN</td>\n",
       "      <td>NaN</td>\n",
       "      <td>NaN</td>\n",
       "      <td>NaN</td>\n",
       "      <td>NaN</td>\n",
       "      <td>NaN</td>\n",
       "      <td>NaN</td>\n",
       "    </tr>\n",
       "    <tr>\n",
       "      <td>zzzzzzzzzz</td>\n",
       "      <td>NaN</td>\n",
       "      <td>NaN</td>\n",
       "      <td>NaN</td>\n",
       "      <td>NaN</td>\n",
       "      <td>NaN</td>\n",
       "      <td>NaN</td>\n",
       "      <td>NaN</td>\n",
       "      <td>NaN</td>\n",
       "      <td>NaN</td>\n",
       "      <td>NaN</td>\n",
       "      <td>...</td>\n",
       "      <td>NaN</td>\n",
       "      <td>NaN</td>\n",
       "      <td>NaN</td>\n",
       "      <td>NaN</td>\n",
       "      <td>NaN</td>\n",
       "      <td>NaN</td>\n",
       "      <td>NaN</td>\n",
       "      <td>NaN</td>\n",
       "      <td>NaN</td>\n",
       "      <td>NaN</td>\n",
       "    </tr>\n",
       "    <tr>\n",
       "      <td>zzzzzzzzzzze</td>\n",
       "      <td>NaN</td>\n",
       "      <td>NaN</td>\n",
       "      <td>NaN</td>\n",
       "      <td>NaN</td>\n",
       "      <td>NaN</td>\n",
       "      <td>NaN</td>\n",
       "      <td>NaN</td>\n",
       "      <td>NaN</td>\n",
       "      <td>NaN</td>\n",
       "      <td>NaN</td>\n",
       "      <td>...</td>\n",
       "      <td>NaN</td>\n",
       "      <td>NaN</td>\n",
       "      <td>NaN</td>\n",
       "      <td>NaN</td>\n",
       "      <td>NaN</td>\n",
       "      <td>NaN</td>\n",
       "      <td>NaN</td>\n",
       "      <td>NaN</td>\n",
       "      <td>NaN</td>\n",
       "      <td>NaN</td>\n",
       "    </tr>\n",
       "    <tr>\n",
       "      <td>zzzzzzzzzzzzzzzzzzzz</td>\n",
       "      <td>NaN</td>\n",
       "      <td>NaN</td>\n",
       "      <td>NaN</td>\n",
       "      <td>NaN</td>\n",
       "      <td>NaN</td>\n",
       "      <td>NaN</td>\n",
       "      <td>NaN</td>\n",
       "      <td>NaN</td>\n",
       "      <td>NaN</td>\n",
       "      <td>NaN</td>\n",
       "      <td>...</td>\n",
       "      <td>NaN</td>\n",
       "      <td>NaN</td>\n",
       "      <td>NaN</td>\n",
       "      <td>NaN</td>\n",
       "      <td>NaN</td>\n",
       "      <td>NaN</td>\n",
       "      <td>NaN</td>\n",
       "      <td>NaN</td>\n",
       "      <td>NaN</td>\n",
       "      <td>1.0</td>\n",
       "    </tr>\n",
       "  </tbody>\n",
       "</table>\n",
       "<p>1661701 rows × 365 columns</p>\n",
       "</div>"
      ],
      "text/plain": [
       "day                   1    2    3    4    5    6    7    8    9    10   ...  \\\n",
       "subreddit                                                               ...   \n",
       "*cohold00009          NaN  NaN  NaN  NaN  NaN  NaN  NaN  NaN  NaN  NaN  ...   \n",
       "*polhold00214         NaN  NaN  NaN  NaN  NaN  NaN  NaN  NaN  NaN  NaN  ...   \n",
       "*polhold999999        NaN  NaN  NaN  NaN  NaN  NaN  NaN  NaN  NaN  NaN  ...   \n",
       "*tmhold00193          NaN  NaN  NaN  NaN  NaN  NaN  NaN  NaN  NaN  NaN  ...   \n",
       "*tmhold00340          NaN  NaN  NaN  NaN  NaN  NaN  NaN  NaN  NaN  NaN  ...   \n",
       "...                   ...  ...  ...  ...  ...  ...  ...  ...  ...  ...  ...   \n",
       "zzzz                  NaN  NaN  NaN  NaN  NaN  1.0  NaN  NaN  NaN  NaN  ...   \n",
       "zzzzz                 NaN  NaN  NaN  NaN  NaN  NaN  NaN  NaN  NaN  NaN  ...   \n",
       "zzzzzzzzzz            NaN  NaN  NaN  NaN  NaN  NaN  NaN  NaN  NaN  NaN  ...   \n",
       "zzzzzzzzzzze          NaN  NaN  NaN  NaN  NaN  NaN  NaN  NaN  NaN  NaN  ...   \n",
       "zzzzzzzzzzzzzzzzzzzz  NaN  NaN  NaN  NaN  NaN  NaN  NaN  NaN  NaN  NaN  ...   \n",
       "\n",
       "day                   356  357  358  359  360  361  362  363  364  365  \n",
       "subreddit                                                               \n",
       "*cohold00009          NaN  NaN  NaN  NaN  NaN  NaN  NaN  NaN  NaN  NaN  \n",
       "*polhold00214         NaN  NaN  NaN  NaN  NaN  NaN  NaN  NaN  NaN  NaN  \n",
       "*polhold999999        NaN  NaN  NaN  NaN  NaN  NaN  NaN  NaN  NaN  NaN  \n",
       "*tmhold00193          NaN  NaN  NaN  NaN  NaN  NaN  NaN  NaN  NaN  NaN  \n",
       "*tmhold00340          NaN  NaN  NaN  NaN  NaN  NaN  NaN  NaN  NaN  NaN  \n",
       "...                   ...  ...  ...  ...  ...  ...  ...  ...  ...  ...  \n",
       "zzzz                  NaN  NaN  NaN  NaN  NaN  NaN  1.0  NaN  NaN  NaN  \n",
       "zzzzz                 NaN  NaN  NaN  NaN  NaN  NaN  NaN  NaN  NaN  NaN  \n",
       "zzzzzzzzzz            NaN  NaN  NaN  NaN  NaN  NaN  NaN  NaN  NaN  NaN  \n",
       "zzzzzzzzzzze          NaN  NaN  NaN  NaN  NaN  NaN  NaN  NaN  NaN  NaN  \n",
       "zzzzzzzzzzzzzzzzzzzz  NaN  NaN  NaN  NaN  NaN  NaN  NaN  NaN  NaN  1.0  \n",
       "\n",
       "[1661701 rows x 365 columns]"
      ]
     },
     "execution_count": 10,
     "metadata": {},
     "output_type": "execute_result"
    }
   ],
   "source": [
    "pivot"
   ]
  },
  {
   "cell_type": "code",
   "execution_count": 12,
   "metadata": {},
   "outputs": [],
   "source": [
    "subreddits = set(df['subreddit'])"
   ]
  },
  {
   "cell_type": "code",
   "execution_count": 13,
   "metadata": {},
   "outputs": [
    {
     "data": {
      "text/plain": [
       "1661701"
      ]
     },
     "execution_count": 13,
     "metadata": {},
     "output_type": "execute_result"
    }
   ],
   "source": [
    "len(subreddits)"
   ]
  },
  {
   "cell_type": "code",
   "execution_count": 14,
   "metadata": {},
   "outputs": [],
   "source": [
    "with open('app/data/subreddit_embeddings.pickle', 'rb') as handle:\n",
    "    embeddings = pickle.load(handle)"
   ]
  },
  {
   "cell_type": "code",
   "execution_count": 34,
   "metadata": {},
   "outputs": [],
   "source": [
    "df.subreddit = df.subreddit.apply(lambda x: x.lower())"
   ]
  },
  {
   "cell_type": "code",
   "execution_count": 35,
   "metadata": {},
   "outputs": [
    {
     "name": "stdout",
     "output_type": "stream",
     "text": [
      "CPU times: user 3min 42s, sys: 1.18 s, total: 3min 43s\n",
      "Wall time: 3min 43s\n"
     ]
    }
   ],
   "source": [
    "%%time\n",
    "filtered = df[df.apply(lambda row: row.subreddit in embeddings, axis=1)]"
   ]
  },
  {
   "cell_type": "code",
   "execution_count": 36,
   "metadata": {},
   "outputs": [
    {
     "data": {
      "text/html": [
       "<div>\n",
       "<style scoped>\n",
       "    .dataframe tbody tr th:only-of-type {\n",
       "        vertical-align: middle;\n",
       "    }\n",
       "\n",
       "    .dataframe tbody tr th {\n",
       "        vertical-align: top;\n",
       "    }\n",
       "\n",
       "    .dataframe thead th {\n",
       "        text-align: right;\n",
       "    }\n",
       "</style>\n",
       "<table border=\"1\" class=\"dataframe\">\n",
       "  <thead>\n",
       "    <tr style=\"text-align: right;\">\n",
       "      <th></th>\n",
       "      <th>subreddit</th>\n",
       "      <th>day</th>\n",
       "      <th>total</th>\n",
       "    </tr>\n",
       "  </thead>\n",
       "  <tbody>\n",
       "    <tr>\n",
       "      <td>10</td>\n",
       "      <td>ice_poseidon</td>\n",
       "      <td>156</td>\n",
       "      <td>16056</td>\n",
       "    </tr>\n",
       "    <tr>\n",
       "      <td>13</td>\n",
       "      <td>askreddit</td>\n",
       "      <td>337</td>\n",
       "      <td>11887</td>\n",
       "    </tr>\n",
       "    <tr>\n",
       "      <td>14</td>\n",
       "      <td>ice_poseidon</td>\n",
       "      <td>125</td>\n",
       "      <td>11648</td>\n",
       "    </tr>\n",
       "    <tr>\n",
       "      <td>16</td>\n",
       "      <td>askreddit</td>\n",
       "      <td>364</td>\n",
       "      <td>11282</td>\n",
       "    </tr>\n",
       "    <tr>\n",
       "      <td>17</td>\n",
       "      <td>askreddit</td>\n",
       "      <td>362</td>\n",
       "      <td>10842</td>\n",
       "    </tr>\n",
       "  </tbody>\n",
       "</table>\n",
       "</div>"
      ],
      "text/plain": [
       "       subreddit  day  total\n",
       "10  ice_poseidon  156  16056\n",
       "13     askreddit  337  11887\n",
       "14  ice_poseidon  125  11648\n",
       "16     askreddit  364  11282\n",
       "17     askreddit  362  10842"
      ]
     },
     "execution_count": 36,
     "metadata": {},
     "output_type": "execute_result"
    }
   ],
   "source": [
    "filtered.sort_values(by='total', ascending=False).head()"
   ]
  },
  {
   "cell_type": "code",
   "execution_count": 37,
   "metadata": {},
   "outputs": [
    {
     "data": {
      "text/html": [
       "<div>\n",
       "<style scoped>\n",
       "    .dataframe tbody tr th:only-of-type {\n",
       "        vertical-align: middle;\n",
       "    }\n",
       "\n",
       "    .dataframe tbody tr th {\n",
       "        vertical-align: top;\n",
       "    }\n",
       "\n",
       "    .dataframe thead th {\n",
       "        text-align: right;\n",
       "    }\n",
       "</style>\n",
       "<table border=\"1\" class=\"dataframe\">\n",
       "  <thead>\n",
       "    <tr style=\"text-align: right;\">\n",
       "      <th></th>\n",
       "      <th>subreddit</th>\n",
       "      <th>day</th>\n",
       "      <th>total</th>\n",
       "    </tr>\n",
       "  </thead>\n",
       "  <tbody>\n",
       "    <tr>\n",
       "      <td>13</td>\n",
       "      <td>askreddit</td>\n",
       "      <td>337</td>\n",
       "      <td>11887</td>\n",
       "    </tr>\n",
       "    <tr>\n",
       "      <td>16</td>\n",
       "      <td>askreddit</td>\n",
       "      <td>364</td>\n",
       "      <td>11282</td>\n",
       "    </tr>\n",
       "    <tr>\n",
       "      <td>17</td>\n",
       "      <td>askreddit</td>\n",
       "      <td>362</td>\n",
       "      <td>10842</td>\n",
       "    </tr>\n",
       "    <tr>\n",
       "      <td>18</td>\n",
       "      <td>askreddit</td>\n",
       "      <td>338</td>\n",
       "      <td>10824</td>\n",
       "    </tr>\n",
       "    <tr>\n",
       "      <td>20</td>\n",
       "      <td>askreddit</td>\n",
       "      <td>323</td>\n",
       "      <td>10803</td>\n",
       "    </tr>\n",
       "    <tr>\n",
       "      <td>...</td>\n",
       "      <td>...</td>\n",
       "      <td>...</td>\n",
       "      <td>...</td>\n",
       "    </tr>\n",
       "    <tr>\n",
       "      <td>623</td>\n",
       "      <td>askreddit</td>\n",
       "      <td>139</td>\n",
       "      <td>6757</td>\n",
       "    </tr>\n",
       "    <tr>\n",
       "      <td>629</td>\n",
       "      <td>askreddit</td>\n",
       "      <td>125</td>\n",
       "      <td>6750</td>\n",
       "    </tr>\n",
       "    <tr>\n",
       "      <td>638</td>\n",
       "      <td>askreddit</td>\n",
       "      <td>55</td>\n",
       "      <td>6705</td>\n",
       "    </tr>\n",
       "    <tr>\n",
       "      <td>641</td>\n",
       "      <td>askreddit</td>\n",
       "      <td>118</td>\n",
       "      <td>6696</td>\n",
       "    </tr>\n",
       "    <tr>\n",
       "      <td>660</td>\n",
       "      <td>askreddit</td>\n",
       "      <td>146</td>\n",
       "      <td>6558</td>\n",
       "    </tr>\n",
       "  </tbody>\n",
       "</table>\n",
       "<p>365 rows × 3 columns</p>\n",
       "</div>"
      ],
      "text/plain": [
       "     subreddit  day  total\n",
       "13   askreddit  337  11887\n",
       "16   askreddit  364  11282\n",
       "17   askreddit  362  10842\n",
       "18   askreddit  338  10824\n",
       "20   askreddit  323  10803\n",
       "..         ...  ...    ...\n",
       "623  askreddit  139   6757\n",
       "629  askreddit  125   6750\n",
       "638  askreddit   55   6705\n",
       "641  askreddit  118   6696\n",
       "660  askreddit  146   6558\n",
       "\n",
       "[365 rows x 3 columns]"
      ]
     },
     "execution_count": 37,
     "metadata": {},
     "output_type": "execute_result"
    }
   ],
   "source": [
    "filtered[filtered.subreddit == 'askreddit']"
   ]
  },
  {
   "cell_type": "code",
   "execution_count": 20,
   "metadata": {},
   "outputs": [
    {
     "data": {
      "text/plain": [
       "14433360"
      ]
     },
     "execution_count": 20,
     "metadata": {},
     "output_type": "execute_result"
    }
   ],
   "source": [
    "len(df)"
   ]
  },
  {
   "cell_type": "code",
   "execution_count": 21,
   "metadata": {},
   "outputs": [],
   "source": [
    "d = {}\n",
    "for k in embeddings:\n",
    "    d[k] = np.zeros(366)"
   ]
  },
  {
   "cell_type": "code",
   "execution_count": 25,
   "metadata": {},
   "outputs": [],
   "source": [
    "def f(row):\n",
    "    d[row.subreddit][row.day-1] = row.total"
   ]
  },
  {
   "cell_type": "code",
   "execution_count": 38,
   "metadata": {},
   "outputs": [
    {
     "name": "stdout",
     "output_type": "stream",
     "text": [
      "CPU times: user 4min, sys: 464 ms, total: 4min 1s\n",
      "Wall time: 4min 1s\n"
     ]
    },
    {
     "data": {
      "text/plain": [
       "10          None\n",
       "13          None\n",
       "14          None\n",
       "16          None\n",
       "17          None\n",
       "            ... \n",
       "14433337    None\n",
       "14433341    None\n",
       "14433346    None\n",
       "14433355    None\n",
       "14433358    None\n",
       "Length: 6691486, dtype: object"
      ]
     },
     "execution_count": 38,
     "metadata": {},
     "output_type": "execute_result"
    }
   ],
   "source": [
    "%%time\n",
    "filtered.apply(f, axis=1)"
   ]
  },
  {
   "cell_type": "code",
   "execution_count": 39,
   "metadata": {},
   "outputs": [
    {
     "data": {
      "text/plain": [
       "array([ 6841.,  7212.,  7670.,  7207.,  7607.,  7123.,  7599.,  7727.,\n",
       "        7736.,  7886.,  8055.,  7748.,  6998.,  7220.,  7679.,  7575.,\n",
       "        8089.,  8320.,  7587.,  7322.,  7504.,  8280.,  8482.,  9030.,\n",
       "        8539.,  7847.,  7418.,  7672.,  8307.,  8531.,  9232.,  8724.,\n",
       "        7834.,  7768.,  7900.,  8332.,  8732.,  8678.,  8635.,  7882.,\n",
       "        7435.,  7923.,  8507.,  8490.,  8055.,  8039.,  7771.,  7505.,\n",
       "        8107.,  8225.,  8896.,  8500.,  8231.,  7257.,  6705.,  7454.,\n",
       "        8121.,  8224.,  7747.,  7915.,  7080.,  6821.,  7320.,  7882.,\n",
       "        7999.,  7988.,  7789.,  6855.,  6789.,  6822.,  7880.,  7817.,\n",
       "        7975.,  7363.,  7583.,  7169.,  7847.,  8192.,  8343.,  8289.,\n",
       "        7873.,  8061.,  7108.,  7372.,  7799.,  8326.,  8407.,  8683.,\n",
       "        8409.,  7801.,  7859.,  7871.,  8605.,  8384.,  8538.,  8134.,\n",
       "        7617.,  8237.,  8884.,  8569.,  8485.,  8227.,  7797.,  7372.,\n",
       "        7380.,  8539.,  8371.,  8278.,  8338.,  7379.,  6959.,  7717.,\n",
       "        8101.,  8479.,  8199.,  7888.,  7503.,  6696.,  7516.,  8264.,\n",
       "        8709.,  8849.,  8057.,  7661.,  6750.,  7470.,  8254.,  8231.,\n",
       "        8346.,  8397.,  7942.,  7434.,  8166.,  8636.,  8226.,  8016.,\n",
       "        8059.,  7442.,  6757.,  6875.,  7952.,  7984.,  7816.,  8042.,\n",
       "        7236.,  6558.,  7128.,  7767.,  8190.,  8440.,  8206.,  7845.,\n",
       "        7137.,  7955.,  8055.,  8180.,  8275.,  8197.,  7744.,  6796.,\n",
       "        7409.,  7929.,  7909.,  8019.,  8549.,  7992.,  7279.,  7346.,\n",
       "        7847.,  8420.,  8132.,  8488.,  7450.,  7136.,  7452.,  7838.,\n",
       "        8173.,  7844.,  8047.,  7539.,  6845.,  6816.,  7709.,  8122.,\n",
       "        7730.,  8367.,  7883.,  7677.,  7500.,  8282.,  8556.,  8242.,\n",
       "        8838.,  8171.,  7689.,  7995.,  8242.,  8632.,  8928.,  8701.,\n",
       "        8136.,  7460.,  7769.,  8368.,  8324.,  8384.,  8432.,  7708.,\n",
       "        7111.,  7357.,  8382.,  8412.,  8779.,  8309.,  7855.,  7319.,\n",
       "        7245.,  7853.,  8116.,  7904.,  7746.,  7853.,  7557.,  7515.,\n",
       "        8367.,  8158.,  8369.,  8752.,  8340.,  7447.,  7808.,  7593.,\n",
       "        7906.,  8524.,  8452.,  8062.,  7314.,  7511.,  7930.,  8292.,\n",
       "        8603.,  8546.,  7879.,  7748.,  7792.,  8028.,  8001.,  7928.,\n",
       "        8302.,  7654.,  6769.,  7233.,  7829.,  8106.,  8085.,  7835.,\n",
       "        7282.,  7390.,  7767.,  8132.,  8288.,  8663.,  8181.,  7798.,\n",
       "        7478.,  7830.,  8271.,  8379.,  8249.,  8094.,  7815.,  7304.,\n",
       "        7680.,  8200.,  8484.,  8977.,  8721.,  8276.,  7590.,  8220.,\n",
       "        8857.,  9123.,  8731.,  9173.,  8327.,  7951.,  8155.,  8933.,\n",
       "        9759.,  9376.,  9137.,  8425.,  7893.,  8423.,  9592.,  9584.,\n",
       "        9151.,  8977.,  7965.,  7337.,  8136.,  9258.,  8753.,  8797.,\n",
       "        8897.,  8347.,  7884.,  8412.,  8932.,  8647.,  8712.,  8644.,\n",
       "        8194.,  7946.,  8214.,  8830.,  9131.,  9177.,  9010.,  8606.,\n",
       "        7787.,  8566., 10803., 10615.,  9928.,  9459.,  8721.,  9220.,\n",
       "       10344., 10686., 10550., 10421.,  9975.,  9343.,  9225., 10241.,\n",
       "       11887., 10824., 10592., 10146.,  8952.,  8711.,  9401.,  9878.,\n",
       "        9516.,  9561.,  9721.,  8828.,  9062.,  8963.,  9990.,  9989.,\n",
       "        9743., 10394.,  9213.,  8981.,  9454.,  8958.,  8805.,  9523.,\n",
       "       10502., 10842., 10369., 11282.,  9671.,     0.])"
      ]
     },
     "execution_count": 39,
     "metadata": {},
     "output_type": "execute_result"
    }
   ],
   "source": [
    "d['askreddit']"
   ]
  },
  {
   "cell_type": "code",
   "execution_count": 40,
   "metadata": {},
   "outputs": [],
   "source": [
    "with open('app/data/post_counts.pickle', 'wb') as handle:\n",
    "    pickle.dump(d, handle, protocol=pickle.HIGHEST_PROTOCOL)"
   ]
  },
  {
   "cell_type": "code",
   "execution_count": null,
   "metadata": {},
   "outputs": [],
   "source": [
    "# %%time\n",
    "# for i, row in df.iterrows():\n",
    "#     s = row.subreddit\n",
    "#     if s not in d:\n",
    "#         d[s] = [0]*366\n",
    "#     d[s][row.day-1] = row.total"
   ]
  }
 ],
 "metadata": {
  "kernelspec": {
   "display_name": "Python 3",
   "language": "python",
   "name": "python3"
  },
  "language_info": {
   "codemirror_mode": {
    "name": "ipython",
    "version": 3
   },
   "file_extension": ".py",
   "mimetype": "text/x-python",
   "name": "python",
   "nbconvert_exporter": "python",
   "pygments_lexer": "ipython3",
   "version": "3.7.3"
  }
 },
 "nbformat": 4,
 "nbformat_minor": 4
}
