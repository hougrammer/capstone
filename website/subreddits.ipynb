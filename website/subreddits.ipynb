{
 "cells": [
  {
   "cell_type": "code",
   "execution_count": 17,
   "metadata": {},
   "outputs": [],
   "source": [
    "import warnings\n",
    "warnings.filterwarnings('ignore')\n",
    "import numpy as np\n",
    "import csv\n",
    "from scipy.spatial.distance import euclidean, cosine\n",
    "import pickle\n",
    "from time import time"
   ]
  },
  {
   "cell_type": "code",
   "execution_count": 2,
   "metadata": {},
   "outputs": [],
   "source": [
    "with open('app/data/subreddit_embeddings.pickle', 'rb') as handle:\n",
    "    embeddings = pickle.load(handle)"
   ]
  },
  {
   "cell_type": "code",
   "execution_count": 3,
   "metadata": {},
   "outputs": [
    {
     "data": {
      "text/plain": [
       "'random_acts_of_amazon'"
      ]
     },
     "execution_count": 3,
     "metadata": {},
     "output_type": "execute_result"
    }
   ],
   "source": [
    "max(embeddings.keys(), key=len)"
   ]
  },
  {
   "cell_type": "code",
   "execution_count": 4,
   "metadata": {},
   "outputs": [
    {
     "data": {
      "text/plain": [
       "21"
      ]
     },
     "execution_count": 4,
     "metadata": {},
     "output_type": "execute_result"
    }
   ],
   "source": [
    "len('random_acts_of_amazon')"
   ]
  },
  {
   "cell_type": "code",
   "execution_count": 5,
   "metadata": {},
   "outputs": [
    {
     "data": {
      "text/plain": [
       "'de'"
      ]
     },
     "execution_count": 5,
     "metadata": {},
     "output_type": "execute_result"
    }
   ],
   "source": [
    "min(embeddings.keys(), key=len)"
   ]
  },
  {
   "cell_type": "code",
   "execution_count": 13,
   "metadata": {},
   "outputs": [],
   "source": [
    "with open('data/web-redditEmbeddings-subreddits.csv', 'r') as f:\n",
    "    reader = csv.reader(f)\n",
    "    for row in reader:\n",
    "        embeddings[row[0]] = np.array(row[1:], dtype='float32')"
   ]
  },
  {
   "cell_type": "code",
   "execution_count": 24,
   "metadata": {},
   "outputs": [],
   "source": [
    "close_cache = {}\n",
    "far_cache = {}"
   ]
  },
  {
   "cell_type": "code",
   "execution_count": 18,
   "metadata": {},
   "outputs": [],
   "source": [
    "def get_closest(subreddit, similarity='euclidean', n=10):\n",
    "    subreddit = subreddit.lower()\n",
    "    if subreddit not in embeddings:\n",
    "        print('{} not in embeddings'.format(subreddit))\n",
    "        return []\n",
    "\n",
    "    print('Getting {} closest subreddits to \"{}\"...'.format(n, subreddit))\n",
    "    t = time()\n",
    "    if (subreddit, similarity) not in cache or len(cache[subreddit, similarity]) < n+1:\n",
    "        print('Cache miss...')\n",
    "        fn = cosine if similarity == 'cosine' else euclidean\n",
    "        subreddits = sorted(\n",
    "            embeddings.keys(),\n",
    "            key=lambda x: fn(embeddings[subreddit], embeddings[x]))[:n+1]\n",
    "        close_cache[subreddit,similarity] = list(zip(\n",
    "            subreddits,\n",
    "            [fn(embeddings[subreddit], embeddings[s]) for s in subreddits]\n",
    "        ))\n",
    "        print('done in {} s'.format(time() - t))\n",
    "\n",
    "    # Return n+1 subreddits because sorted[0] is the original subreddit\n",
    "    return close_cache[subreddit, similarity][:n+1]"
   ]
  },
  {
   "cell_type": "code",
   "execution_count": 25,
   "metadata": {},
   "outputs": [],
   "source": [
    "def get_furthest(subreddit, similarity='euclidean', n=10):\n",
    "    subreddit = subreddit.lower()\n",
    "    if subreddit not in embeddings:\n",
    "        print('{} not in embeddings'.format(subreddit))\n",
    "        return []\n",
    "\n",
    "    print('Getting {} closest subreddits to \"{}\"...'.format(n, subreddit))\n",
    "    t = time()\n",
    "    if (subreddit, similarity) not in cache or len(cache[subreddit, similarity]) < n+1:\n",
    "        print('Cache miss...')\n",
    "        fn = cosine if similarity == 'cosine' else euclidean\n",
    "        subreddits = sorted(\n",
    "            embeddings.keys(),\n",
    "            key=lambda x: fn(embeddings[subreddit], embeddings[x]),\n",
    "            reverse=True)[:n+1]\n",
    "        far_cache[subreddit,similarity] = list(zip(\n",
    "            subreddits,\n",
    "            [fn(embeddings[subreddit], embeddings[s]) for s in subreddits]\n",
    "        ))\n",
    "        print('done in {} s'.format(time() - t))\n",
    "\n",
    "    # Return n+1 subreddits because sorted[0] is the original subreddit\n",
    "    return far_cache[subreddit, similarity][:n+1]"
   ]
  },
  {
   "cell_type": "code",
   "execution_count": 20,
   "metadata": {},
   "outputs": [
    {
     "name": "stdout",
     "output_type": "stream",
     "text": [
      "Getting 10 closest subreddits to \"askreddit\"...\n",
      "Cache miss...\n",
      "done in 2.5334856510162354 s\n"
     ]
    },
    {
     "data": {
      "text/plain": [
       "[('askreddit', 0.0),\n",
       " ('completethissentence', 0.22178328037261963),\n",
       " ('ama', 0.26310986280441284),\n",
       " ('iama', 0.27122557163238525),\n",
       " ('wouldyourather', 0.2972117066383362),\n",
       " ('tifu', 0.301621675491333),\n",
       " ('needadvice', 0.30279648303985596),\n",
       " ('answers', 0.3052477240562439),\n",
       " ('advice', 0.3216932415962219),\n",
       " ('explainlikeimfive', 0.3218296766281128),\n",
       " ('doesanybodyelse', 0.3253251910209656)]"
      ]
     },
     "execution_count": 20,
     "metadata": {},
     "output_type": "execute_result"
    }
   ],
   "source": [
    "get_closest('askreddit', similarity='cosine')"
   ]
  },
  {
   "cell_type": "code",
   "execution_count": 21,
   "metadata": {},
   "outputs": [
    {
     "name": "stdout",
     "output_type": "stream",
     "text": [
      "Getting 10 closest subreddits to \"askreddit\"...\n",
      "Cache miss...\n",
      "done in 0.8080568313598633 s\n"
     ]
    },
    {
     "data": {
      "text/plain": [
       "[('askreddit', 0.0),\n",
       " ('tifu', 10.901585578918457),\n",
       " ('explainlikeimfive', 11.011619567871094),\n",
       " ('advice', 11.0809965133667),\n",
       " ('answers', 11.338592529296875),\n",
       " ('doesanybodyelse', 11.353464126586914),\n",
       " ('iama', 11.446866035461426),\n",
       " ('lifeprotips', 11.51236343383789),\n",
       " ('ama', 11.712154388427734),\n",
       " ('wouldyourather', 11.718408584594727),\n",
       " ('casualiama', 11.854926109313965)]"
      ]
     },
     "execution_count": 21,
     "metadata": {},
     "output_type": "execute_result"
    }
   ],
   "source": [
    "get_closest('askreddit', similarity='euclidean')"
   ]
  },
  {
   "cell_type": "code",
   "execution_count": 26,
   "metadata": {},
   "outputs": [
    {
     "name": "stdout",
     "output_type": "stream",
     "text": [
      "Getting 10 closest subreddits to \"askreddit\"...\n",
      "Cache miss...\n",
      "done in 0.8022699356079102 s\n"
     ]
    },
    {
     "data": {
      "text/plain": [
       "[('rocketleagueexchange', 34.784122467041016),\n",
       " ('globaloffensivetrade', 33.89466094970703),\n",
       " ('fireteams', 33.08305358886719),\n",
       " ('dirtypenpals', 31.34185028076172),\n",
       " ('dirtykikpals', 29.3709716796875),\n",
       " ('dota2', 28.3215389251709),\n",
       " ('gonewild', 28.17448616027832),\n",
       " ('business', 26.806333541870117),\n",
       " ('pokemontrades', 26.579896926879883),\n",
       " ('squaredcircle', 26.364320755004883),\n",
       " ('jailbreak', 26.090612411499023)]"
      ]
     },
     "execution_count": 26,
     "metadata": {},
     "output_type": "execute_result"
    }
   ],
   "source": [
    "get_furthest('askreddit', similarity='euclidean')"
   ]
  }
 ],
 "metadata": {
  "kernelspec": {
   "display_name": "Python 3",
   "language": "python",
   "name": "python3"
  },
  "language_info": {
   "codemirror_mode": {
    "name": "ipython",
    "version": 3
   },
   "file_extension": ".py",
   "mimetype": "text/x-python",
   "name": "python",
   "nbconvert_exporter": "python",
   "pygments_lexer": "ipython3",
   "version": "3.7.3"
  }
 },
 "nbformat": 4,
 "nbformat_minor": 4
}
