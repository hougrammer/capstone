{
 "cells": [
  {
   "cell_type": "markdown",
   "metadata": {},
   "source": [
    "# Split Data into Train/Validation/Test"
   ]
  },
  {
   "cell_type": "code",
   "execution_count": 1,
   "metadata": {},
   "outputs": [],
   "source": [
    "import warnings\n",
    "warnings.filterwarnings('ignore')\n",
    "\n",
    "import pickle\n",
    "import random\n",
    "import numpy as np\n",
    "import pandas as pd\n",
    "from tensorflow.keras.preprocessing import sequence\n",
    "from tensorflow.keras.preprocessing.text import Tokenizer"
   ]
  },
  {
   "cell_type": "code",
   "execution_count": 2,
   "metadata": {},
   "outputs": [],
   "source": [
    "data_path = 'data/submissions.csv'\n",
    "seed = 42\n",
    "max_features = 40000\n",
    "maxlen = 20\n",
    "\n",
    "splits = [.8, .1, .1]\n",
    "assert sum(splits) == 1"
   ]
  },
  {
   "cell_type": "code",
   "execution_count": 3,
   "metadata": {},
   "outputs": [],
   "source": [
    "df = pd.read_csv(data_path, encoding='utf-8')"
   ]
  },
  {
   "cell_type": "code",
   "execution_count": 4,
   "metadata": {},
   "outputs": [
    {
     "data": {
      "text/html": [
       "<div>\n",
       "<style scoped>\n",
       "    .dataframe tbody tr th:only-of-type {\n",
       "        vertical-align: middle;\n",
       "    }\n",
       "\n",
       "    .dataframe tbody tr th {\n",
       "        vertical-align: top;\n",
       "    }\n",
       "\n",
       "    .dataframe thead th {\n",
       "        text-align: right;\n",
       "    }\n",
       "</style>\n",
       "<table border=\"1\" class=\"dataframe\">\n",
       "  <thead>\n",
       "    <tr style=\"text-align: right;\">\n",
       "      <th></th>\n",
       "      <th>id</th>\n",
       "      <th>title</th>\n",
       "      <th>score</th>\n",
       "      <th>hour</th>\n",
       "      <th>minute</th>\n",
       "      <th>dayofweek</th>\n",
       "      <th>dayofyear</th>\n",
       "      <th>is_top_submission</th>\n",
       "    </tr>\n",
       "  </thead>\n",
       "  <tbody>\n",
       "    <tr>\n",
       "      <td>0</td>\n",
       "      <td>cnhcty</td>\n",
       "      <td>People who downloaded their Google data and we...</td>\n",
       "      <td>95489</td>\n",
       "      <td>22</td>\n",
       "      <td>45</td>\n",
       "      <td>3</td>\n",
       "      <td>219</td>\n",
       "      <td>1</td>\n",
       "    </tr>\n",
       "    <tr>\n",
       "      <td>1</td>\n",
       "      <td>chm4um</td>\n",
       "      <td>Have you ever felt you don't know/have forgott...</td>\n",
       "      <td>90634</td>\n",
       "      <td>3</td>\n",
       "      <td>53</td>\n",
       "      <td>4</td>\n",
       "      <td>206</td>\n",
       "      <td>1</td>\n",
       "    </tr>\n",
       "    <tr>\n",
       "      <td>2</td>\n",
       "      <td>co16i3</td>\n",
       "      <td>Redditors who have tried to hide on your cruis...</td>\n",
       "      <td>87538</td>\n",
       "      <td>4</td>\n",
       "      <td>39</td>\n",
       "      <td>5</td>\n",
       "      <td>221</td>\n",
       "      <td>1</td>\n",
       "    </tr>\n",
       "    <tr>\n",
       "      <td>3</td>\n",
       "      <td>cj95jb</td>\n",
       "      <td>What knowledge might save your life one day?</td>\n",
       "      <td>87503</td>\n",
       "      <td>2</td>\n",
       "      <td>57</td>\n",
       "      <td>1</td>\n",
       "      <td>210</td>\n",
       "      <td>1</td>\n",
       "    </tr>\n",
       "    <tr>\n",
       "      <td>4</td>\n",
       "      <td>cuctl4</td>\n",
       "      <td>What if you suddenly feel a touch on the shoul...</td>\n",
       "      <td>86162</td>\n",
       "      <td>4</td>\n",
       "      <td>53</td>\n",
       "      <td>5</td>\n",
       "      <td>235</td>\n",
       "      <td>1</td>\n",
       "    </tr>\n",
       "    <tr>\n",
       "      <td>5</td>\n",
       "      <td>cbm4z1</td>\n",
       "      <td>If HBO's Chernobyl was a series with a new dis...</td>\n",
       "      <td>85131</td>\n",
       "      <td>13</td>\n",
       "      <td>40</td>\n",
       "      <td>3</td>\n",
       "      <td>191</td>\n",
       "      <td>1</td>\n",
       "    </tr>\n",
       "    <tr>\n",
       "      <td>6</td>\n",
       "      <td>ctysw7</td>\n",
       "      <td>How do we save this fucking planet?</td>\n",
       "      <td>82249</td>\n",
       "      <td>8</td>\n",
       "      <td>14</td>\n",
       "      <td>4</td>\n",
       "      <td>234</td>\n",
       "      <td>1</td>\n",
       "    </tr>\n",
       "    <tr>\n",
       "      <td>7</td>\n",
       "      <td>cpsi27</td>\n",
       "      <td>What is the scariest story you know that is 10...</td>\n",
       "      <td>80859</td>\n",
       "      <td>5</td>\n",
       "      <td>33</td>\n",
       "      <td>2</td>\n",
       "      <td>225</td>\n",
       "      <td>1</td>\n",
       "    </tr>\n",
       "    <tr>\n",
       "      <td>8</td>\n",
       "      <td>ci3nf2</td>\n",
       "      <td>For people who like to listen to full albums, ...</td>\n",
       "      <td>79470</td>\n",
       "      <td>7</td>\n",
       "      <td>37</td>\n",
       "      <td>5</td>\n",
       "      <td>207</td>\n",
       "      <td>1</td>\n",
       "    </tr>\n",
       "    <tr>\n",
       "      <td>9</td>\n",
       "      <td>bvr285</td>\n",
       "      <td>What is that one fact you know that always mak...</td>\n",
       "      <td>77646</td>\n",
       "      <td>16</td>\n",
       "      <td>29</td>\n",
       "      <td>6</td>\n",
       "      <td>152</td>\n",
       "      <td>1</td>\n",
       "    </tr>\n",
       "  </tbody>\n",
       "</table>\n",
       "</div>"
      ],
      "text/plain": [
       "       id                                              title  score  hour  \\\n",
       "0  cnhcty  People who downloaded their Google data and we...  95489    22   \n",
       "1  chm4um  Have you ever felt you don't know/have forgott...  90634     3   \n",
       "2  co16i3  Redditors who have tried to hide on your cruis...  87538     4   \n",
       "3  cj95jb       What knowledge might save your life one day?  87503     2   \n",
       "4  cuctl4  What if you suddenly feel a touch on the shoul...  86162     4   \n",
       "5  cbm4z1  If HBO's Chernobyl was a series with a new dis...  85131    13   \n",
       "6  ctysw7                How do we save this fucking planet?  82249     8   \n",
       "7  cpsi27  What is the scariest story you know that is 10...  80859     5   \n",
       "8  ci3nf2  For people who like to listen to full albums, ...  79470     7   \n",
       "9  bvr285  What is that one fact you know that always mak...  77646    16   \n",
       "\n",
       "   minute  dayofweek  dayofyear  is_top_submission  \n",
       "0      45          3        219                  1  \n",
       "1      53          4        206                  1  \n",
       "2      39          5        221                  1  \n",
       "3      57          1        210                  1  \n",
       "4      53          5        235                  1  \n",
       "5      40          3        191                  1  \n",
       "6      14          4        234                  1  \n",
       "7      33          2        225                  1  \n",
       "8      37          5        207                  1  \n",
       "9      29          6        152                  1  "
      ]
     },
     "execution_count": 4,
     "metadata": {},
     "output_type": "execute_result"
    }
   ],
   "source": [
    "df.head(10)"
   ]
  },
  {
   "cell_type": "code",
   "execution_count": 5,
   "metadata": {},
   "outputs": [
    {
     "data": {
      "text/plain": [
       "17.90230041718448"
      ]
     },
     "execution_count": 5,
     "metadata": {},
     "output_type": "execute_result"
    }
   ],
   "source": [
    "df.score.mean()"
   ]
  },
  {
   "cell_type": "code",
   "execution_count": 6,
   "metadata": {},
   "outputs": [],
   "source": [
    "titles_raw = np.array(df.title)\n",
    "hours = np.array(df.hour, dtype=int)\n",
    "minutes = np.array(df.minute, dtype=int)\n",
    "weekdays = np.array(df.dayofweek, dtype=int)\n",
    "dates = np.array(df.dayofyear, dtype=int) - 1 # minus 1 to make January 1 = 0\n",
    "is_top_submission = np.array(df.is_top_submission, dtype=int)"
   ]
  },
  {
   "cell_type": "code",
   "execution_count": 7,
   "metadata": {},
   "outputs": [],
   "source": [
    "word_tokenizer = Tokenizer(max_features)\n",
    "word_tokenizer.fit_on_texts(titles_raw)"
   ]
  },
  {
   "cell_type": "code",
   "execution_count": 8,
   "metadata": {},
   "outputs": [],
   "source": [
    "titles = word_tokenizer.texts_to_sequences(titles_raw)\n",
    "titles = sequence.pad_sequences(titles, maxlen)"
   ]
  },
  {
   "cell_type": "code",
   "execution_count": 9,
   "metadata": {},
   "outputs": [],
   "source": [
    "n = len(titles)\n",
    "np.random.seed(seed)\n",
    "idx = np.array(range(n))\n",
    "np.random.shuffle(idx)\n",
    "idx_splits = (np.cumsum(splits[:2])*n).astype('int')\n",
    "idx_train, idx_val, idx_test = np.split(idx, idx_splits)"
   ]
  },
  {
   "cell_type": "code",
   "execution_count": 10,
   "metadata": {},
   "outputs": [],
   "source": [
    "payload = {}\n",
    "d = {\n",
    "    'titles_raw': titles_raw,\n",
    "    'titles': titles,\n",
    "    'hours': hours,\n",
    "    'minutes': minutes,\n",
    "    'weekdays': weekdays,\n",
    "    'dates': dates,\n",
    "    'is_top_submission': is_top_submission\n",
    "}\n",
    "\n",
    "for k,v in d.items():\n",
    "    payload[k+'_train'] = v[idx_train]\n",
    "    payload[k+'_val'] = v[idx_val]\n",
    "    payload[k+'_test'] = v[idx_test]\n",
    "\n",
    "payload['all_titles'] = titles\n",
    "payload['tokenizer'] = word_tokenizer"
   ]
  },
  {
   "cell_type": "code",
   "execution_count": 11,
   "metadata": {},
   "outputs": [],
   "source": [
    "with open('loaded_data.pickle', 'wb') as f:\n",
    "    pickle.dump(payload, f, protocol=pickle.HIGHEST_PROTOCOL)"
   ]
  }
 ],
 "metadata": {
  "kernelspec": {
   "display_name": "Python 3",
   "language": "python",
   "name": "python3"
  },
  "language_info": {
   "codemirror_mode": {
    "name": "ipython",
    "version": 3
   },
   "file_extension": ".py",
   "mimetype": "text/x-python",
   "name": "python",
   "nbconvert_exporter": "python",
   "pygments_lexer": "ipython3",
   "version": "3.7.4"
  }
 },
 "nbformat": 4,
 "nbformat_minor": 4
}
