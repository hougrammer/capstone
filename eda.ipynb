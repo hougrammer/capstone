{
 "cells": [
  {
   "cell_type": "markdown",
   "metadata": {},
   "source": [
    "# EDA"
   ]
  },
  {
   "cell_type": "code",
   "execution_count": 8,
   "metadata": {},
   "outputs": [],
   "source": [
    "import pandas as pd\n",
    "import numpy as np\n",
    "import matplotlib.pyplot as plt\n",
    "\n",
    "%matplotlib inline"
   ]
  },
  {
   "cell_type": "code",
   "execution_count": 2,
   "metadata": {},
   "outputs": [],
   "source": [
    "subreddits = pd.read_csv('data/subreddits.csv')"
   ]
  },
  {
   "cell_type": "code",
   "execution_count": 12,
   "metadata": {},
   "outputs": [],
   "source": [
    "subreddits['percent_self'] = subreddits.self / subreddits.total\n",
    "subreddits['percent_adult'] = subreddits.adult / subreddits.total"
   ]
  },
  {
   "cell_type": "code",
   "execution_count": 13,
   "metadata": {},
   "outputs": [
    {
     "data": {
      "text/html": [
       "<div>\n",
       "<style scoped>\n",
       "    .dataframe tbody tr th:only-of-type {\n",
       "        vertical-align: middle;\n",
       "    }\n",
       "\n",
       "    .dataframe tbody tr th {\n",
       "        vertical-align: top;\n",
       "    }\n",
       "\n",
       "    .dataframe thead th {\n",
       "        text-align: right;\n",
       "    }\n",
       "</style>\n",
       "<table border=\"1\" class=\"dataframe\">\n",
       "  <thead>\n",
       "    <tr style=\"text-align: right;\">\n",
       "      <th></th>\n",
       "      <th>subreddit</th>\n",
       "      <th>total</th>\n",
       "      <th>self</th>\n",
       "      <th>adult</th>\n",
       "      <th>percent_self</th>\n",
       "      <th>percent_adult</th>\n",
       "    </tr>\n",
       "  </thead>\n",
       "  <tbody>\n",
       "    <tr>\n",
       "      <td>0</td>\n",
       "      <td>AskReddit</td>\n",
       "      <td>3004130</td>\n",
       "      <td>3004129</td>\n",
       "      <td>74510</td>\n",
       "      <td>1.000000</td>\n",
       "      <td>0.024803</td>\n",
       "    </tr>\n",
       "    <tr>\n",
       "      <td>1</td>\n",
       "      <td>AutoNewspaper</td>\n",
       "      <td>2243759</td>\n",
       "      <td>12</td>\n",
       "      <td>16</td>\n",
       "      <td>0.000005</td>\n",
       "      <td>0.000007</td>\n",
       "    </tr>\n",
       "    <tr>\n",
       "      <td>2</td>\n",
       "      <td>FortNiteBR</td>\n",
       "      <td>1211365</td>\n",
       "      <td>589886</td>\n",
       "      <td>2607</td>\n",
       "      <td>0.486960</td>\n",
       "      <td>0.002152</td>\n",
       "    </tr>\n",
       "    <tr>\n",
       "      <td>3</td>\n",
       "      <td>The_Donald</td>\n",
       "      <td>972787</td>\n",
       "      <td>132416</td>\n",
       "      <td>3029</td>\n",
       "      <td>0.136120</td>\n",
       "      <td>0.003114</td>\n",
       "    </tr>\n",
       "    <tr>\n",
       "      <td>4</td>\n",
       "      <td>PewdiepieSubmissions</td>\n",
       "      <td>970586</td>\n",
       "      <td>27</td>\n",
       "      <td>3975</td>\n",
       "      <td>0.000028</td>\n",
       "      <td>0.004095</td>\n",
       "    </tr>\n",
       "    <tr>\n",
       "      <td>5</td>\n",
       "      <td>RocketLeagueExchange</td>\n",
       "      <td>939078</td>\n",
       "      <td>938401</td>\n",
       "      <td>43347</td>\n",
       "      <td>0.999279</td>\n",
       "      <td>0.046159</td>\n",
       "    </tr>\n",
       "    <tr>\n",
       "      <td>6</td>\n",
       "      <td>Ice_Poseidon</td>\n",
       "      <td>916997</td>\n",
       "      <td>409339</td>\n",
       "      <td>8984</td>\n",
       "      <td>0.446391</td>\n",
       "      <td>0.009797</td>\n",
       "    </tr>\n",
       "    <tr>\n",
       "      <td>7</td>\n",
       "      <td>Showerthoughts</td>\n",
       "      <td>838899</td>\n",
       "      <td>838384</td>\n",
       "      <td>3340</td>\n",
       "      <td>0.999386</td>\n",
       "      <td>0.003981</td>\n",
       "    </tr>\n",
       "    <tr>\n",
       "      <td>8</td>\n",
       "      <td>newsbotbot</td>\n",
       "      <td>820142</td>\n",
       "      <td>12</td>\n",
       "      <td>1</td>\n",
       "      <td>0.000015</td>\n",
       "      <td>0.000001</td>\n",
       "    </tr>\n",
       "    <tr>\n",
       "      <td>9</td>\n",
       "      <td>funny</td>\n",
       "      <td>755451</td>\n",
       "      <td>55667</td>\n",
       "      <td>9324</td>\n",
       "      <td>0.073687</td>\n",
       "      <td>0.012342</td>\n",
       "    </tr>\n",
       "  </tbody>\n",
       "</table>\n",
       "</div>"
      ],
      "text/plain": [
       "              subreddit    total     self  adult  percent_self  percent_adult\n",
       "0             AskReddit  3004130  3004129  74510      1.000000       0.024803\n",
       "1         AutoNewspaper  2243759       12     16      0.000005       0.000007\n",
       "2            FortNiteBR  1211365   589886   2607      0.486960       0.002152\n",
       "3            The_Donald   972787   132416   3029      0.136120       0.003114\n",
       "4  PewdiepieSubmissions   970586       27   3975      0.000028       0.004095\n",
       "5  RocketLeagueExchange   939078   938401  43347      0.999279       0.046159\n",
       "6          Ice_Poseidon   916997   409339   8984      0.446391       0.009797\n",
       "7        Showerthoughts   838899   838384   3340      0.999386       0.003981\n",
       "8            newsbotbot   820142       12      1      0.000015       0.000001\n",
       "9                 funny   755451    55667   9324      0.073687       0.012342"
      ]
     },
     "execution_count": 13,
     "metadata": {},
     "output_type": "execute_result"
    }
   ],
   "source": [
    "subreddits.head(10)"
   ]
  },
  {
   "cell_type": "code",
   "execution_count": 16,
   "metadata": {},
   "outputs": [],
   "source": [
    "safe_texts = subreddits[(subreddits.percent_self > .95) & (subreddits.percent_adult < .05)]"
   ]
  },
  {
   "cell_type": "code",
   "execution_count": 17,
   "metadata": {},
   "outputs": [
    {
     "data": {
      "text/html": [
       "<div>\n",
       "<style scoped>\n",
       "    .dataframe tbody tr th:only-of-type {\n",
       "        vertical-align: middle;\n",
       "    }\n",
       "\n",
       "    .dataframe tbody tr th {\n",
       "        vertical-align: top;\n",
       "    }\n",
       "\n",
       "    .dataframe thead th {\n",
       "        text-align: right;\n",
       "    }\n",
       "</style>\n",
       "<table border=\"1\" class=\"dataframe\">\n",
       "  <thead>\n",
       "    <tr style=\"text-align: right;\">\n",
       "      <th></th>\n",
       "      <th>subreddit</th>\n",
       "      <th>total</th>\n",
       "      <th>self</th>\n",
       "      <th>adult</th>\n",
       "      <th>percent_self</th>\n",
       "      <th>percent_adult</th>\n",
       "    </tr>\n",
       "  </thead>\n",
       "  <tbody>\n",
       "    <tr>\n",
       "      <td>0</td>\n",
       "      <td>AskReddit</td>\n",
       "      <td>3004130</td>\n",
       "      <td>3004129</td>\n",
       "      <td>74510</td>\n",
       "      <td>1.000000</td>\n",
       "      <td>0.024803</td>\n",
       "    </tr>\n",
       "    <tr>\n",
       "      <td>5</td>\n",
       "      <td>RocketLeagueExchange</td>\n",
       "      <td>939078</td>\n",
       "      <td>938401</td>\n",
       "      <td>43347</td>\n",
       "      <td>0.999279</td>\n",
       "      <td>0.046159</td>\n",
       "    </tr>\n",
       "    <tr>\n",
       "      <td>7</td>\n",
       "      <td>Showerthoughts</td>\n",
       "      <td>838899</td>\n",
       "      <td>838384</td>\n",
       "      <td>3340</td>\n",
       "      <td>0.999386</td>\n",
       "      <td>0.003981</td>\n",
       "    </tr>\n",
       "    <tr>\n",
       "      <td>20</td>\n",
       "      <td>SteamTradingCards</td>\n",
       "      <td>474389</td>\n",
       "      <td>474386</td>\n",
       "      <td>147</td>\n",
       "      <td>0.999994</td>\n",
       "      <td>0.000310</td>\n",
       "    </tr>\n",
       "    <tr>\n",
       "      <td>29</td>\n",
       "      <td>AskOuija</td>\n",
       "      <td>357610</td>\n",
       "      <td>357579</td>\n",
       "      <td>572</td>\n",
       "      <td>0.999913</td>\n",
       "      <td>0.001600</td>\n",
       "    </tr>\n",
       "    <tr>\n",
       "      <td>31</td>\n",
       "      <td>forexhome</td>\n",
       "      <td>345446</td>\n",
       "      <td>345208</td>\n",
       "      <td>0</td>\n",
       "      <td>0.999311</td>\n",
       "      <td>0.000000</td>\n",
       "    </tr>\n",
       "    <tr>\n",
       "      <td>32</td>\n",
       "      <td>NoStupidQuestions</td>\n",
       "      <td>341841</td>\n",
       "      <td>341612</td>\n",
       "      <td>2817</td>\n",
       "      <td>0.999330</td>\n",
       "      <td>0.008241</td>\n",
       "    </tr>\n",
       "    <tr>\n",
       "      <td>33</td>\n",
       "      <td>removalbot</td>\n",
       "      <td>327781</td>\n",
       "      <td>327781</td>\n",
       "      <td>213</td>\n",
       "      <td>1.000000</td>\n",
       "      <td>0.000650</td>\n",
       "    </tr>\n",
       "    <tr>\n",
       "      <td>38</td>\n",
       "      <td>relationships</td>\n",
       "      <td>299366</td>\n",
       "      <td>299366</td>\n",
       "      <td>1730</td>\n",
       "      <td>1.000000</td>\n",
       "      <td>0.005779</td>\n",
       "    </tr>\n",
       "    <tr>\n",
       "      <td>47</td>\n",
       "      <td>buildapc</td>\n",
       "      <td>249098</td>\n",
       "      <td>249098</td>\n",
       "      <td>89</td>\n",
       "      <td>1.000000</td>\n",
       "      <td>0.000357</td>\n",
       "    </tr>\n",
       "  </tbody>\n",
       "</table>\n",
       "</div>"
      ],
      "text/plain": [
       "               subreddit    total     self  adult  percent_self  percent_adult\n",
       "0              AskReddit  3004130  3004129  74510      1.000000       0.024803\n",
       "5   RocketLeagueExchange   939078   938401  43347      0.999279       0.046159\n",
       "7         Showerthoughts   838899   838384   3340      0.999386       0.003981\n",
       "20     SteamTradingCards   474389   474386    147      0.999994       0.000310\n",
       "29              AskOuija   357610   357579    572      0.999913       0.001600\n",
       "31             forexhome   345446   345208      0      0.999311       0.000000\n",
       "32     NoStupidQuestions   341841   341612   2817      0.999330       0.008241\n",
       "33            removalbot   327781   327781    213      1.000000       0.000650\n",
       "38         relationships   299366   299366   1730      1.000000       0.005779\n",
       "47              buildapc   249098   249098     89      1.000000       0.000357"
      ]
     },
     "execution_count": 17,
     "metadata": {},
     "output_type": "execute_result"
    }
   ],
   "source": [
    "safe_texts.head(10)"
   ]
  },
  {
   "cell_type": "code",
   "execution_count": 18,
   "metadata": {},
   "outputs": [
    {
     "data": {
      "text/plain": [
       "440758"
      ]
     },
     "execution_count": 18,
     "metadata": {},
     "output_type": "execute_result"
    }
   ],
   "source": [
    "len(safe_texts)"
   ]
  },
  {
   "cell_type": "code",
   "execution_count": 31,
   "metadata": {},
   "outputs": [
    {
     "data": {
      "image/png": "[encoded data removed]",
      "text/plain": [
       "<Figure size 648x432 with 1 Axes>"
      ]
     },
     "metadata": {
      "needs_background": "light"
     },
     "output_type": "display_data"
    }
   ],
   "source": [
    "plt.figure(figsize=(9,6))\n",
    "plt.hist(subreddits.percent_self, bins=20)\n",
    "plt.title('Percent of posts that are self posts')\n",
    "plt.grid()\n",
    "None"
   ]
  },
  {
   "cell_type": "code",
   "execution_count": 30,
   "metadata": {},
   "outputs": [
    {
     "data": {
      "image/png": "[encoded data removed]",
      "text/plain": [
       "<Figure size 648x432 with 1 Axes>"
      ]
     },
     "metadata": {
      "needs_background": "light"
     },
     "output_type": "display_data"
    }
   ],
   "source": [
    "plt.figure(figsize=(9,6))\n",
    "plt.hist(subreddits.percent_adult, bins=20)\n",
    "plt.title('Percent of posts that are NSFW posts')\n",
    "plt.grid()\n",
    "None"
   ]
  },
  {
   "cell_type": "code",
   "execution_count": 32,
   "metadata": {},
   "outputs": [],
   "source": [
    "submissions = pd.read_csv('data/submissions.csv')"
   ]
  },
  {
   "cell_type": "code",
   "execution_count": 34,
   "metadata": {},
   "outputs": [
    {
     "data": {
      "text/html": [
       "<div>\n",
       "<style scoped>\n",
       "    .dataframe tbody tr th:only-of-type {\n",
       "        vertical-align: middle;\n",
       "    }\n",
       "\n",
       "    .dataframe tbody tr th {\n",
       "        vertical-align: top;\n",
       "    }\n",
       "\n",
       "    .dataframe thead th {\n",
       "        text-align: right;\n",
       "    }\n",
       "</style>\n",
       "<table border=\"1\" class=\"dataframe\">\n",
       "  <thead>\n",
       "    <tr style=\"text-align: right;\">\n",
       "      <th></th>\n",
       "      <th>id</th>\n",
       "      <th>title</th>\n",
       "      <th>score</th>\n",
       "      <th>hour</th>\n",
       "      <th>minute</th>\n",
       "      <th>dayofweek</th>\n",
       "      <th>dayofyear</th>\n",
       "      <th>is_top_submission</th>\n",
       "    </tr>\n",
       "  </thead>\n",
       "  <tbody>\n",
       "    <tr>\n",
       "      <td>0</td>\n",
       "      <td>cnhcty</td>\n",
       "      <td>People who downloaded their Google data and we...</td>\n",
       "      <td>95489</td>\n",
       "      <td>22</td>\n",
       "      <td>45</td>\n",
       "      <td>3</td>\n",
       "      <td>219</td>\n",
       "      <td>1</td>\n",
       "    </tr>\n",
       "    <tr>\n",
       "      <td>1</td>\n",
       "      <td>chm4um</td>\n",
       "      <td>Have you ever felt you don't know/have forgott...</td>\n",
       "      <td>90634</td>\n",
       "      <td>3</td>\n",
       "      <td>53</td>\n",
       "      <td>4</td>\n",
       "      <td>206</td>\n",
       "      <td>1</td>\n",
       "    </tr>\n",
       "    <tr>\n",
       "      <td>2</td>\n",
       "      <td>co16i3</td>\n",
       "      <td>Redditors who have tried to hide on your cruis...</td>\n",
       "      <td>87538</td>\n",
       "      <td>4</td>\n",
       "      <td>39</td>\n",
       "      <td>5</td>\n",
       "      <td>221</td>\n",
       "      <td>1</td>\n",
       "    </tr>\n",
       "    <tr>\n",
       "      <td>3</td>\n",
       "      <td>cj95jb</td>\n",
       "      <td>What knowledge might save your life one day?</td>\n",
       "      <td>87503</td>\n",
       "      <td>2</td>\n",
       "      <td>57</td>\n",
       "      <td>1</td>\n",
       "      <td>210</td>\n",
       "      <td>1</td>\n",
       "    </tr>\n",
       "    <tr>\n",
       "      <td>4</td>\n",
       "      <td>cuctl4</td>\n",
       "      <td>What if you suddenly feel a touch on the shoul...</td>\n",
       "      <td>86162</td>\n",
       "      <td>4</td>\n",
       "      <td>53</td>\n",
       "      <td>5</td>\n",
       "      <td>235</td>\n",
       "      <td>1</td>\n",
       "    </tr>\n",
       "  </tbody>\n",
       "</table>\n",
       "</div>"
      ],
      "text/plain": [
       "       id                                              title  score  hour  \\\n",
       "0  cnhcty  People who downloaded their Google data and we...  95489    22   \n",
       "1  chm4um  Have you ever felt you don't know/have forgott...  90634     3   \n",
       "2  co16i3  Redditors who have tried to hide on your cruis...  87538     4   \n",
       "3  cj95jb       What knowledge might save your life one day?  87503     2   \n",
       "4  cuctl4  What if you suddenly feel a touch on the shoul...  86162     4   \n",
       "\n",
       "   minute  dayofweek  dayofyear  is_top_submission  \n",
       "0      45          3        219                  1  \n",
       "1      53          4        206                  1  \n",
       "2      39          5        221                  1  \n",
       "3      57          1        210                  1  \n",
       "4      53          5        235                  1  "
      ]
     },
     "execution_count": 34,
     "metadata": {},
     "output_type": "execute_result"
    }
   ],
   "source": [
    "submissions.head(5)"
   ]
  },
  {
   "cell_type": "code",
   "execution_count": 38,
   "metadata": {},
   "outputs": [
    {
     "data": {
      "image/png": "[encoded data removed]",
      "text/plain": [
       "<Figure size 648x432 with 1 Axes>"
      ]
     },
     "metadata": {
      "needs_background": "light"
     },
     "output_type": "display_data"
    }
   ],
   "source": [
    "plt.figure(figsize=(9,6))\n",
    "plt.hist(submissions.score, log=True, bins=20)\n",
    "plt.title('Score distribution')\n",
    "plt.grid()\n",
    "\n",
    "None"
   ]
  }
 ],
 "metadata": {
  "kernelspec": {
   "display_name": "Python 3",
   "language": "python",
   "name": "python3"
  },
  "language_info": {
   "codemirror_mode": {
    "name": "ipython",
    "version": 3
   },
   "file_extension": ".py",
   "mimetype": "text/x-python",
   "name": "python",
   "nbconvert_exporter": "python",
   "pygments_lexer": "ipython3",
   "version": "3.7.4"
  }
 },
 "nbformat": 4,
 "nbformat_minor": 4
}
