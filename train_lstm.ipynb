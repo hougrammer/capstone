{
 "cells": [
  {
   "cell_type": "code",
   "execution_count": 21,
   "metadata": {},
   "outputs": [
    {
     "data": {
      "text/plain": [
       "<module 'model_lstm2' from '/home/david/capstone/model_lstm2.py'>"
      ]
     },
     "execution_count": 21,
     "metadata": {},
     "output_type": "execute_result"
    }
   ],
   "source": [
    "import model_lstm\n",
    "from importlib import reload\n",
    "reload(model_lstm)"
   ]
  },
  {
   "cell_type": "code",
   "execution_count": 25,
   "metadata": {},
   "outputs": [],
   "source": [
    "model = model_lstm.ModelLstm('model_lstm')"
   ]
  },
  {
   "cell_type": "code",
   "execution_count": 26,
   "metadata": {},
   "outputs": [
    {
     "name": "stdout",
     "output_type": "stream",
     "text": [
      "__________________________________________________________________________________________________\n",
      "Layer (type)                    Output Shape         Param #     Connected to                     \n",
      "==================================================================================================\n",
      "title_in (InputLayer)           (None, 20)           0                                            \n",
      "__________________________________________________________________________________________________\n",
      "hour_in (InputLayer)            (None, 1)            0                                            \n",
      "__________________________________________________________________________________________________\n",
      "weekday_in (InputLayer)         (None, 1)            0                                            \n",
      "__________________________________________________________________________________________________\n",
      "minute_in (InputLayer)          (None, 1)            0                                            \n",
      "__________________________________________________________________________________________________\n",
      "date_in (InputLayer)            (None, 1)            0                                            \n",
      "__________________________________________________________________________________________________\n",
      "embedding_30 (Embedding)        (None, 20, 50)       2000050     title_in[0][0]                   \n",
      "__________________________________________________________________________________________________\n",
      "embedding_31 (Embedding)        (None, 1, 64)        1536        hour_in[0][0]                    \n",
      "__________________________________________________________________________________________________\n",
      "embedding_32 (Embedding)        (None, 1, 64)        448         weekday_in[0][0]                 \n",
      "__________________________________________________________________________________________________\n",
      "embedding_33 (Embedding)        (None, 1, 64)        3840        minute_in[0][0]                  \n",
      "__________________________________________________________________________________________________\n",
      "embedding_34 (Embedding)        (None, 1, 64)        23424       date_in[0][0]                    \n",
      "__________________________________________________________________________________________________\n",
      "lstm_6 (LSTM)                   (None, 256)          314368      embedding_30[0][0]               \n",
      "__________________________________________________________________________________________________\n",
      "reshape_24 (Reshape)            (None, 64)           0           embedding_31[0][0]               \n",
      "__________________________________________________________________________________________________\n",
      "reshape_25 (Reshape)            (None, 64)           0           embedding_32[0][0]               \n",
      "__________________________________________________________________________________________________\n",
      "reshape_26 (Reshape)            (None, 64)           0           embedding_33[0][0]               \n",
      "__________________________________________________________________________________________________\n",
      "reshape_27 (Reshape)            (None, 64)           0           embedding_34[0][0]               \n",
      "__________________________________________________________________________________________________\n",
      "concatenate_6 (Concatenate)     (None, 512)          0           lstm_6[0][0]                     \n",
      "                                                                 reshape_24[0][0]                 \n",
      "                                                                 reshape_25[0][0]                 \n",
      "                                                                 reshape_26[0][0]                 \n",
      "                                                                 reshape_27[0][0]                 \n",
      "__________________________________________________________________________________________________\n",
      "dense_6 (Dense)                 (None, 256)          131328      concatenate_6[0][0]              \n",
      "__________________________________________________________________________________________________\n",
      "batch_normalization_v1_6 (Batch (None, 256)          1024        dense_6[0][0]                    \n",
      "__________________________________________________________________________________________________\n",
      "dropout_6 (Dropout)             (None, 256)          0           batch_normalization_v1_6[0][0]   \n",
      "__________________________________________________________________________________________________\n",
      "global_average_pooling1d_5 (Glo (None, 50)           0           embedding_30[0][0]               \n",
      "__________________________________________________________________________________________________\n",
      "main_out (Dense)                (None, 1)            257         dropout_6[0][0]                  \n",
      "__________________________________________________________________________________________________\n",
      "aux_out (Dense)                 (None, 1)            51          global_average_pooling1d_5[0][0] \n",
      "==================================================================================================\n",
      "Total params: 2,476,326\n",
      "Trainable params: 2,475,814\n",
      "Non-trainable params: 512\n",
      "__________________________________________________________________________________________________\n"
     ]
    }
   ],
   "source": [
    "model.summary()"
   ]
  },
  {
   "cell_type": "code",
   "execution_count": 19,
   "metadata": {},
   "outputs": [
    {
     "name": "stdout",
     "output_type": "stream",
     "text": [
      "Train on 1118162 samples, validate on 139770 samples\n",
      "WARNING:tensorflow:From /home/david/anaconda3/envs/capstone/lib/python3.7/site-packages/tensorflow/python/ops/math_ops.py:3066: to_int32 (from tensorflow.python.ops.math_ops) is deprecated and will be removed in a future version.\n",
      "Instructions for updating:\n",
      "Use tf.cast instead.\n",
      "Epoch 1/10\n",
      "1118162/1118162 [==============================] - 4851s 4ms/sample - loss: 0.6954 - main_out_loss: 0.5775 - aux_out_loss: 0.5897 - main_out_acc: 0.6719 - aux_out_acc: 0.6684 - val_loss: 0.6787 - val_main_out_loss: 0.5617 - val_aux_out_loss: 0.5851 - val_main_out_acc: 0.6778 - val_aux_out_acc: 0.6668\n",
      "Epoch 2/10\n",
      "1118162/1118162 [==============================] - 4955s 4ms/sample - loss: 0.6762 - main_out_loss: 0.5604 - aux_out_loss: 0.5787 - main_out_acc: 0.6778 - aux_out_acc: 0.6714 - val_loss: 0.6740 - val_main_out_loss: 0.5575 - val_aux_out_loss: 0.5827 - val_main_out_acc: 0.6820 - val_aux_out_acc: 0.6691\n",
      "Epoch 3/10\n",
      "1118162/1118162 [==============================] - 5222s 5ms/sample - loss: 0.6707 - main_out_loss: 0.5555 - aux_out_loss: 0.5760 - main_out_acc: 0.6815 - aux_out_acc: 0.6729 - val_loss: 0.6734 - val_main_out_loss: 0.5569 - val_aux_out_loss: 0.5828 - val_main_out_acc: 0.6801 - val_aux_out_acc: 0.6709\n",
      "Epoch 4/10\n",
      "1118162/1118162 [==============================] - 5134s 5ms/sample - loss: 0.6668 - main_out_loss: 0.5519 - aux_out_loss: 0.5744 - main_out_acc: 0.6842 - aux_out_acc: 0.6738 - val_loss: 0.6761 - val_main_out_loss: 0.5594 - val_aux_out_loss: 0.5831 - val_main_out_acc: 0.6784 - val_aux_out_acc: 0.6699\n",
      "Epoch 5/10\n",
      " 948032/1118162 [========================>.....] - ETA: 12:34 - loss: 0.6636 - main_out_loss: 0.5490 - aux_out_loss: 0.5730 - main_out_acc: 0.6864 - aux_out_acc: 0.6750"
     ]
    },
    {
     "name": "stderr",
     "output_type": "stream",
     "text": [
      "IOPub message rate exceeded.\n",
      "The notebook server will temporarily stop sending output\n",
      "to the client in order to avoid crashing it.\n",
      "To change this limit, set the config variable\n",
      "`--NotebookApp.iopub_msg_rate_limit`.\n",
      "\n",
      "Current values:\n",
      "NotebookApp.iopub_msg_rate_limit=1000.0 (msgs/sec)\n",
      "NotebookApp.rate_limit_window=3.0 (secs)\n",
      "\n"
     ]
    },
    {
     "name": "stdout",
     "output_type": "stream",
     "text": [
      " 131872/1118162 [==>...........................] - ETA: 1:13:50 - loss: 0.6581 - main_out_loss: 0.5441 - aux_out_loss: 0.5701 - main_out_acc: 0.6913 - aux_out_acc: 0.6787"
     ]
    },
    {
     "name": "stderr",
     "output_type": "stream",
     "text": [
      "IOPub data rate exceeded.\n",
      "The notebook server will temporarily stop sending output\n",
      "to the client in order to avoid crashing it.\n",
      "To change this limit, set the config variable\n",
      "`--NotebookApp.iopub_data_rate_limit`.\n",
      "\n",
      "Current values:\n",
      "NotebookApp.iopub_data_rate_limit=1000000.0 (bytes/sec)\n",
      "NotebookApp.rate_limit_window=3.0 (secs)\n",
      "\n"
     ]
    },
    {
     "name": "stdout",
     "output_type": "stream",
     "text": [
      " 431904/1118162 [==========>...................] - ETA: 51:26 - loss: 0.6601 - main_out_loss: 0.5458 - aux_out_loss: 0.5717 - main_out_acc: 0.6899 - aux_out_acc: 0.6756"
     ]
    },
    {
     "name": "stderr",
     "output_type": "stream",
     "text": [
      "IOPub message rate exceeded.\n",
      "The notebook server will temporarily stop sending output\n",
      "to the client in order to avoid crashing it.\n",
      "To change this limit, set the config variable\n",
      "`--NotebookApp.iopub_msg_rate_limit`.\n",
      "\n",
      "Current values:\n",
      "NotebookApp.iopub_msg_rate_limit=1000.0 (msgs/sec)\n",
      "NotebookApp.rate_limit_window=3.0 (secs)\n",
      "\n"
     ]
    },
    {
     "name": "stdout",
     "output_type": "stream",
     "text": [
      " 737216/1118162 [==================>...........] - ETA: 28:18 - loss: 0.6606 - main_out_loss: 0.5461 - aux_out_loss: 0.5723 - main_out_acc: 0.6892 - aux_out_acc: 0.6750"
     ]
    },
    {
     "name": "stderr",
     "output_type": "stream",
     "text": [
      "IOPub message rate exceeded.\n",
      "The notebook server will temporarily stop sending output\n",
      "to the client in order to avoid crashing it.\n",
      "To change this limit, set the config variable\n",
      "`--NotebookApp.iopub_msg_rate_limit`.\n",
      "\n",
      "Current values:\n",
      "NotebookApp.iopub_msg_rate_limit=1000.0 (msgs/sec)\n",
      "NotebookApp.rate_limit_window=3.0 (secs)\n",
      "\n"
     ]
    },
    {
     "name": "stdout",
     "output_type": "stream",
     "text": [
      "1040256/1118162 [==========================>...] - ETA: 5:42 - loss: 0.6612 - main_out_loss: 0.5466 - aux_out_loss: 0.5728 - main_out_acc: 0.6888 - aux_out_acc: 0.6749"
     ]
    },
    {
     "name": "stderr",
     "output_type": "stream",
     "text": [
      "IOPub message rate exceeded.\n",
      "The notebook server will temporarily stop sending output\n",
      "to the client in order to avoid crashing it.\n",
      "To change this limit, set the config variable\n",
      "`--NotebookApp.iopub_msg_rate_limit`.\n",
      "\n",
      "Current values:\n",
      "NotebookApp.iopub_msg_rate_limit=1000.0 (msgs/sec)\n",
      "NotebookApp.rate_limit_window=3.0 (secs)\n",
      "\n"
     ]
    },
    {
     "name": "stdout",
     "output_type": "stream",
     "text": [
      " 205888/1118162 [====>.........................] - ETA: 1:08:13 - loss: 0.6576 - main_out_loss: 0.5434 - aux_out_loss: 0.5711 - main_out_acc: 0.6915 - aux_out_acc: 0.6772"
     ]
    },
    {
     "name": "stderr",
     "output_type": "stream",
     "text": [
      "IOPub data rate exceeded.\n",
      "The notebook server will temporarily stop sending output\n",
      "to the client in order to avoid crashing it.\n",
      "To change this limit, set the config variable\n",
      "`--NotebookApp.iopub_data_rate_limit`.\n",
      "\n",
      "Current values:\n",
      "NotebookApp.iopub_data_rate_limit=1000000.0 (bytes/sec)\n",
      "NotebookApp.rate_limit_window=3.0 (secs)\n",
      "\n"
     ]
    },
    {
     "name": "stdout",
     "output_type": "stream",
     "text": [
      " 499840/1118162 [============>.................] - ETA: 46:38 - loss: 0.6581 - main_out_loss: 0.5438 - aux_out_loss: 0.5717 - main_out_acc: 0.6916 - aux_out_acc: 0.6764"
     ]
    },
    {
     "name": "stderr",
     "output_type": "stream",
     "text": [
      "IOPub message rate exceeded.\n",
      "The notebook server will temporarily stop sending output\n",
      "to the client in order to avoid crashing it.\n",
      "To change this limit, set the config variable\n",
      "`--NotebookApp.iopub_msg_rate_limit`.\n",
      "\n",
      "Current values:\n",
      "NotebookApp.iopub_msg_rate_limit=1000.0 (msgs/sec)\n",
      "NotebookApp.rate_limit_window=3.0 (secs)\n",
      "\n"
     ]
    },
    {
     "name": "stdout",
     "output_type": "stream",
     "text": [
      " 775328/1118162 [===================>..........] - ETA: 25:37 - loss: 0.6585 - main_out_loss: 0.5442 - aux_out_loss: 0.5716 - main_out_acc: 0.6911 - aux_out_acc: 0.6760"
     ]
    },
    {
     "name": "stderr",
     "output_type": "stream",
     "text": [
      "IOPub message rate exceeded.\n",
      "The notebook server will temporarily stop sending output\n",
      "to the client in order to avoid crashing it.\n",
      "To change this limit, set the config variable\n",
      "`--NotebookApp.iopub_msg_rate_limit`.\n",
      "\n",
      "Current values:\n",
      "NotebookApp.iopub_msg_rate_limit=1000.0 (msgs/sec)\n",
      "NotebookApp.rate_limit_window=3.0 (secs)\n",
      "\n"
     ]
    },
    {
     "name": "stdout",
     "output_type": "stream",
     "text": [
      "1069824/1118162 [===========================>..] - ETA: 3:35 - loss: 0.6590 - main_out_loss: 0.5446 - aux_out_loss: 0.5719 - main_out_acc: 0.6909 - aux_out_acc: 0.6756"
     ]
    },
    {
     "name": "stderr",
     "output_type": "stream",
     "text": [
      "IOPub message rate exceeded.\n",
      "The notebook server will temporarily stop sending output\n",
      "to the client in order to avoid crashing it.\n",
      "To change this limit, set the config variable\n",
      "`--NotebookApp.iopub_msg_rate_limit`.\n",
      "\n",
      "Current values:\n",
      "NotebookApp.iopub_msg_rate_limit=1000.0 (msgs/sec)\n",
      "NotebookApp.rate_limit_window=3.0 (secs)\n",
      "\n"
     ]
    },
    {
     "name": "stdout",
     "output_type": "stream",
     "text": [
      " 245792/1118162 [=====>........................] - ETA: 1:01:38 - loss: 0.6555 - main_out_loss: 0.5414 - aux_out_loss: 0.5706 - main_out_acc: 0.6937 - aux_out_acc: 0.6766"
     ]
    },
    {
     "name": "stderr",
     "output_type": "stream",
     "text": [
      "IOPub data rate exceeded.\n",
      "The notebook server will temporarily stop sending output\n",
      "to the client in order to avoid crashing it.\n",
      "To change this limit, set the config variable\n",
      "`--NotebookApp.iopub_data_rate_limit`.\n",
      "\n",
      "Current values:\n",
      "NotebookApp.iopub_data_rate_limit=1000000.0 (bytes/sec)\n",
      "NotebookApp.rate_limit_window=3.0 (secs)\n",
      "\n"
     ]
    },
    {
     "name": "stdout",
     "output_type": "stream",
     "text": [
      " 539040/1118162 [=============>................] - ETA: 42:03 - loss: 0.6566 - main_out_loss: 0.5424 - aux_out_loss: 0.5709 - main_out_acc: 0.6927 - aux_out_acc: 0.6765"
     ]
    },
    {
     "name": "stderr",
     "output_type": "stream",
     "text": [
      "IOPub message rate exceeded.\n",
      "The notebook server will temporarily stop sending output\n",
      "to the client in order to avoid crashing it.\n",
      "To change this limit, set the config variable\n",
      "`--NotebookApp.iopub_msg_rate_limit`.\n",
      "\n",
      "Current values:\n",
      "NotebookApp.iopub_msg_rate_limit=1000.0 (msgs/sec)\n",
      "NotebookApp.rate_limit_window=3.0 (secs)\n",
      "\n"
     ]
    },
    {
     "name": "stdout",
     "output_type": "stream",
     "text": [
      " 834240/1118162 [=====================>........] - ETA: 20:30 - loss: 0.6565 - main_out_loss: 0.5423 - aux_out_loss: 0.5713 - main_out_acc: 0.6928 - aux_out_acc: 0.6764"
     ]
    },
    {
     "name": "stderr",
     "output_type": "stream",
     "text": [
      "IOPub message rate exceeded.\n",
      "The notebook server will temporarily stop sending output\n",
      "to the client in order to avoid crashing it.\n",
      "To change this limit, set the config variable\n",
      "`--NotebookApp.iopub_msg_rate_limit`.\n",
      "\n",
      "Current values:\n",
      "NotebookApp.iopub_msg_rate_limit=1000.0 (msgs/sec)\n",
      "NotebookApp.rate_limit_window=3.0 (secs)\n",
      "\n"
     ]
    },
    {
     "name": "stdout",
     "output_type": "stream",
     "text": [
      "1029440/1118162 [==========================>...] - ETA: 6:24 - loss: 0.6567 - main_out_loss: 0.5424 - aux_out_loss: 0.5715 - main_out_acc: 0.6928 - aux_out_acc: 0.6762"
     ]
    },
    {
     "name": "stderr",
     "output_type": "stream",
     "text": [
      "IOPub message rate exceeded.\n",
      "The notebook server will temporarily stop sending output\n",
      "to the client in order to avoid crashing it.\n",
      "To change this limit, set the config variable\n",
      "`--NotebookApp.iopub_msg_rate_limit`.\n",
      "\n",
      "Current values:\n",
      "NotebookApp.iopub_msg_rate_limit=1000.0 (msgs/sec)\n",
      "NotebookApp.rate_limit_window=3.0 (secs)\n",
      "\n"
     ]
    },
    {
     "name": "stdout",
     "output_type": "stream",
     "text": [
      "1118162/1118162 [==============================] - 4938s 4ms/sample - loss: 0.6569 - main_out_loss: 0.5426 - aux_out_loss: 0.5716 - main_out_acc: 0.6925 - aux_out_acc: 0.6760 - val_loss: 0.6811 - val_main_out_loss: 0.5644 - val_aux_out_loss: 0.5835 - val_main_out_acc: 0.6741 - val_aux_out_acc: 0.6696\n",
      "Epoch 9/10\n",
      "  14048/1118162 [..............................] - ETA: 1:19:53 - loss: 0.6465 - main_out_loss: 0.5329 - aux_out_loss: 0.5678 - main_out_acc: 0.7032 - aux_out_acc: 0.6807"
     ]
    },
    {
     "name": "stderr",
     "output_type": "stream",
     "text": [
      "IOPub message rate exceeded.\n",
      "The notebook server will temporarily stop sending output\n",
      "to the client in order to avoid crashing it.\n",
      "To change this limit, set the config variable\n",
      "`--NotebookApp.iopub_msg_rate_limit`.\n",
      "\n",
      "Current values:\n",
      "NotebookApp.iopub_msg_rate_limit=1000.0 (msgs/sec)\n",
      "NotebookApp.rate_limit_window=3.0 (secs)\n",
      "\n"
     ]
    },
    {
     "name": "stdout",
     "output_type": "stream",
     "text": [
      " 206176/1118162 [====>.........................] - ETA: 1:04:11 - loss: 0.6523 - main_out_loss: 0.5382 - aux_out_loss: 0.5704 - main_out_acc: 0.6964 - aux_out_acc: 0.6774"
     ]
    },
    {
     "name": "stderr",
     "output_type": "stream",
     "text": [
      "IOPub message rate exceeded.\n",
      "The notebook server will temporarily stop sending output\n",
      "to the client in order to avoid crashing it.\n",
      "To change this limit, set the config variable\n",
      "`--NotebookApp.iopub_msg_rate_limit`.\n",
      "\n",
      "Current values:\n",
      "NotebookApp.iopub_msg_rate_limit=1000.0 (msgs/sec)\n",
      "NotebookApp.rate_limit_window=3.0 (secs)\n",
      "\n"
     ]
    },
    {
     "name": "stdout",
     "output_type": "stream",
     "text": [
      " 311424/1118162 [=======>......................] - ETA: 57:15 - loss: 0.6525 - main_out_loss: 0.5385 - aux_out_loss: 0.5702 - main_out_acc: 0.6960 - aux_out_acc: 0.6770"
     ]
    },
    {
     "name": "stderr",
     "output_type": "stream",
     "text": [
      "IOPub data rate exceeded.\n",
      "The notebook server will temporarily stop sending output\n",
      "to the client in order to avoid crashing it.\n",
      "To change this limit, set the config variable\n",
      "`--NotebookApp.iopub_data_rate_limit`.\n",
      "\n",
      "Current values:\n",
      "NotebookApp.iopub_data_rate_limit=1000000.0 (bytes/sec)\n",
      "NotebookApp.rate_limit_window=3.0 (secs)\n",
      "\n"
     ]
    },
    {
     "name": "stdout",
     "output_type": "stream",
     "text": [
      " 505344/1118162 [============>.................] - ETA: 44:13 - loss: 0.6533 - main_out_loss: 0.5392 - aux_out_loss: 0.5707 - main_out_acc: 0.6960 - aux_out_acc: 0.6768"
     ]
    },
    {
     "name": "stderr",
     "output_type": "stream",
     "text": [
      "IOPub data rate exceeded.\n",
      "The notebook server will temporarily stop sending output\n",
      "to the client in order to avoid crashing it.\n",
      "To change this limit, set the config variable\n",
      "`--NotebookApp.iopub_data_rate_limit`.\n",
      "\n",
      "Current values:\n",
      "NotebookApp.iopub_data_rate_limit=1000000.0 (bytes/sec)\n",
      "NotebookApp.rate_limit_window=3.0 (secs)\n",
      "\n"
     ]
    },
    {
     "name": "stdout",
     "output_type": "stream",
     "text": [
      " 612096/1118162 [===============>..............] - ETA: 37:00 - loss: 0.6536 - main_out_loss: 0.5395 - aux_out_loss: 0.5705 - main_out_acc: 0.6959 - aux_out_acc: 0.6768"
     ]
    },
    {
     "name": "stderr",
     "output_type": "stream",
     "text": [
      "IOPub message rate exceeded.\n",
      "The notebook server will temporarily stop sending output\n",
      "to the client in order to avoid crashing it.\n",
      "To change this limit, set the config variable\n",
      "`--NotebookApp.iopub_msg_rate_limit`.\n",
      "\n",
      "Current values:\n",
      "NotebookApp.iopub_msg_rate_limit=1000.0 (msgs/sec)\n",
      "NotebookApp.rate_limit_window=3.0 (secs)\n",
      "\n"
     ]
    },
    {
     "name": "stdout",
     "output_type": "stream",
     "text": [
      " 809248/1118162 [====================>.........] - ETA: 22:50 - loss: 0.6540 - main_out_loss: 0.5399 - aux_out_loss: 0.5707 - main_out_acc: 0.6952 - aux_out_acc: 0.6767"
     ]
    },
    {
     "name": "stderr",
     "output_type": "stream",
     "text": [
      "IOPub message rate exceeded.\n",
      "The notebook server will temporarily stop sending output\n",
      "to the client in order to avoid crashing it.\n",
      "To change this limit, set the config variable\n",
      "`--NotebookApp.iopub_msg_rate_limit`.\n",
      "\n",
      "Current values:\n",
      "NotebookApp.iopub_msg_rate_limit=1000.0 (msgs/sec)\n",
      "NotebookApp.rate_limit_window=3.0 (secs)\n",
      "\n"
     ]
    },
    {
     "name": "stdout",
     "output_type": "stream",
     "text": [
      " 914112/1118162 [=======================>......] - ETA: 15:09 - loss: 0.6543 - main_out_loss: 0.5402 - aux_out_loss: 0.5708 - main_out_acc: 0.6948 - aux_out_acc: 0.6764"
     ]
    },
    {
     "name": "stderr",
     "output_type": "stream",
     "text": [
      "IOPub message rate exceeded.\n",
      "The notebook server will temporarily stop sending output\n",
      "to the client in order to avoid crashing it.\n",
      "To change this limit, set the config variable\n",
      "`--NotebookApp.iopub_msg_rate_limit`.\n",
      "\n",
      "Current values:\n",
      "NotebookApp.iopub_msg_rate_limit=1000.0 (msgs/sec)\n",
      "NotebookApp.rate_limit_window=3.0 (secs)\n",
      "\n"
     ]
    },
    {
     "name": "stdout",
     "output_type": "stream",
     "text": [
      "1104096/1118162 [============================>.] - ETA: 1:02 - loss: 0.6551 - main_out_loss: 0.5408 - aux_out_loss: 0.5712 - main_out_acc: 0.6944 - aux_out_acc: 0.6762"
     ]
    },
    {
     "name": "stderr",
     "output_type": "stream",
     "text": [
      "IOPub message rate exceeded.\n",
      "The notebook server will temporarily stop sending output\n",
      "to the client in order to avoid crashing it.\n",
      "To change this limit, set the config variable\n",
      "`--NotebookApp.iopub_msg_rate_limit`.\n",
      "\n",
      "Current values:\n",
      "NotebookApp.iopub_msg_rate_limit=1000.0 (msgs/sec)\n",
      "NotebookApp.rate_limit_window=3.0 (secs)\n",
      "\n"
     ]
    },
    {
     "name": "stdout",
     "output_type": "stream",
     "text": [
      "  84832/1118162 [=>............................] - ETA: 1:12:18 - loss: 0.6524 - main_out_loss: 0.5383 - aux_out_loss: 0.5707 - main_out_acc: 0.6964 - aux_out_acc: 0.6767"
     ]
    },
    {
     "name": "stderr",
     "output_type": "stream",
     "text": [
      "IOPub data rate exceeded.\n",
      "The notebook server will temporarily stop sending output\n",
      "to the client in order to avoid crashing it.\n",
      "To change this limit, set the config variable\n",
      "`--NotebookApp.iopub_data_rate_limit`.\n",
      "\n",
      "Current values:\n",
      "NotebookApp.iopub_data_rate_limit=1000000.0 (bytes/sec)\n",
      "NotebookApp.rate_limit_window=3.0 (secs)\n",
      "\n"
     ]
    },
    {
     "name": "stdout",
     "output_type": "stream",
     "text": [
      " 338272/1118162 [========>.....................] - ETA: 54:20 - loss: 0.6524 - main_out_loss: 0.5383 - aux_out_loss: 0.5706 - main_out_acc: 0.6965 - aux_out_acc: 0.6765"
     ]
    },
    {
     "name": "stderr",
     "output_type": "stream",
     "text": [
      "IOPub message rate exceeded.\n",
      "The notebook server will temporarily stop sending output\n",
      "to the client in order to avoid crashing it.\n",
      "To change this limit, set the config variable\n",
      "`--NotebookApp.iopub_msg_rate_limit`.\n",
      "\n",
      "Current values:\n",
      "NotebookApp.iopub_msg_rate_limit=1000.0 (msgs/sec)\n",
      "NotebookApp.rate_limit_window=3.0 (secs)\n",
      "\n",
      "IOPub data rate exceeded.\n",
      "The notebook server will temporarily stop sending output\n",
      "to the client in order to avoid crashing it.\n",
      "To change this limit, set the config variable\n",
      "`--NotebookApp.iopub_data_rate_limit`.\n",
      "\n",
      "Current values:\n",
      "NotebookApp.iopub_data_rate_limit=1000000.0 (bytes/sec)\n",
      "NotebookApp.rate_limit_window=3.0 (secs)\n",
      "\n"
     ]
    },
    {
     "name": "stdout",
     "output_type": "stream",
     "text": [
      " 640064/1118162 [================>.............] - ETA: 33:59 - loss: 0.6527 - main_out_loss: 0.5386 - aux_out_loss: 0.5705 - main_out_acc: 0.6963 - aux_out_acc: 0.6769"
     ]
    },
    {
     "name": "stderr",
     "output_type": "stream",
     "text": [
      "IOPub message rate exceeded.\n",
      "The notebook server will temporarily stop sending output\n",
      "to the client in order to avoid crashing it.\n",
      "To change this limit, set the config variable\n",
      "`--NotebookApp.iopub_msg_rate_limit`.\n",
      "\n",
      "Current values:\n",
      "NotebookApp.iopub_msg_rate_limit=1000.0 (msgs/sec)\n",
      "NotebookApp.rate_limit_window=3.0 (secs)\n",
      "\n"
     ]
    },
    {
     "name": "stdout",
     "output_type": "stream",
     "text": [
      " 937216/1118162 [========================>.....] - ETA: 12:58 - loss: 0.6536 - main_out_loss: 0.5394 - aux_out_loss: 0.5710 - main_out_acc: 0.6958 - aux_out_acc: 0.6764"
     ]
    },
    {
     "name": "stderr",
     "output_type": "stream",
     "text": [
      "IOPub message rate exceeded.\n",
      "The notebook server will temporarily stop sending output\n",
      "to the client in order to avoid crashing it.\n",
      "To change this limit, set the config variable\n",
      "`--NotebookApp.iopub_msg_rate_limit`.\n",
      "\n",
      "Current values:\n",
      "NotebookApp.iopub_msg_rate_limit=1000.0 (msgs/sec)\n",
      "NotebookApp.rate_limit_window=3.0 (secs)\n",
      "\n"
     ]
    }
   ],
   "source": [
    "model.train(epochs=10)"
   ]
  }
 ],
 "metadata": {
  "kernelspec": {
   "display_name": "Python 3",
   "language": "python",
   "name": "python3"
  },
  "language_info": {
   "codemirror_mode": {
    "name": "ipython",
    "version": 3
   },
   "file_extension": ".py",
   "mimetype": "text/x-python",
   "name": "python",
   "nbconvert_exporter": "python",
   "pygments_lexer": "ipython3",
   "version": "3.7.4"
  }
 },
 "nbformat": 4,
 "nbformat_minor": 4
}
