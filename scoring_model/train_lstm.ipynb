{
 "cells": [
  {
   "cell_type": "code",
   "execution_count": 5,
   "metadata": {},
   "outputs": [
    {
     "data": {
      "text/plain": [
       "<module 'model_lstm' from '/home/david/capstone/model_lstm.py'>"
      ]
     },
     "execution_count": 5,
     "metadata": {},
     "output_type": "execute_result"
    }
   ],
   "source": [
    "import model_lstm\n",
    "from importlib import reload\n",
    "reload(model_lstm)"
   ]
  },
  {
   "cell_type": "code",
   "execution_count": 6,
   "metadata": {},
   "outputs": [
    {
     "name": "stdout",
     "output_type": "stream",
     "text": [
      "__________________________________________________________________________________________________\n",
      "Layer (type)                    Output Shape         Param #     Connected to                     \n",
      "==================================================================================================\n",
      "title_in (InputLayer)           (None, 20)           0                                            \n",
      "__________________________________________________________________________________________________\n",
      "hour_in (InputLayer)            (None, 1)            0                                            \n",
      "__________________________________________________________________________________________________\n",
      "weekday_in (InputLayer)         (None, 1)            0                                            \n",
      "__________________________________________________________________________________________________\n",
      "minute_in (InputLayer)          (None, 1)            0                                            \n",
      "__________________________________________________________________________________________________\n",
      "date_in (InputLayer)            (None, 1)            0                                            \n",
      "__________________________________________________________________________________________________\n",
      "embedding_5 (Embedding)         (None, 20, 300)      12000300    title_in[0][0]                   \n",
      "__________________________________________________________________________________________________\n",
      "embedding_6 (Embedding)         (None, 1, 64)        1536        hour_in[0][0]                    \n",
      "__________________________________________________________________________________________________\n",
      "embedding_7 (Embedding)         (None, 1, 64)        448         weekday_in[0][0]                 \n",
      "__________________________________________________________________________________________________\n",
      "embedding_8 (Embedding)         (None, 1, 64)        3840        minute_in[0][0]                  \n",
      "__________________________________________________________________________________________________\n",
      "embedding_9 (Embedding)         (None, 1, 64)        23424       date_in[0][0]                    \n",
      "__________________________________________________________________________________________________\n",
      "lstm_1 (LSTM)                   (None, 256)          570368      embedding_5[0][0]                \n",
      "__________________________________________________________________________________________________\n",
      "reshape_4 (Reshape)             (None, 64)           0           embedding_6[0][0]                \n",
      "__________________________________________________________________________________________________\n",
      "reshape_5 (Reshape)             (None, 64)           0           embedding_7[0][0]                \n",
      "__________________________________________________________________________________________________\n",
      "reshape_6 (Reshape)             (None, 64)           0           embedding_8[0][0]                \n",
      "__________________________________________________________________________________________________\n",
      "reshape_7 (Reshape)             (None, 64)           0           embedding_9[0][0]                \n",
      "__________________________________________________________________________________________________\n",
      "concatenate_1 (Concatenate)     (None, 512)          0           lstm_1[0][0]                     \n",
      "                                                                 reshape_4[0][0]                  \n",
      "                                                                 reshape_5[0][0]                  \n",
      "                                                                 reshape_6[0][0]                  \n",
      "                                                                 reshape_7[0][0]                  \n",
      "__________________________________________________________________________________________________\n",
      "dense_1 (Dense)                 (None, 256)          131328      concatenate_1[0][0]              \n",
      "__________________________________________________________________________________________________\n",
      "batch_normalization_v1_1 (Batch (None, 256)          1024        dense_1[0][0]                    \n",
      "__________________________________________________________________________________________________\n",
      "dropout_1 (Dropout)             (None, 256)          0           batch_normalization_v1_1[0][0]   \n",
      "__________________________________________________________________________________________________\n",
      "global_average_pooling1d_1 (Glo (None, 300)          0           embedding_5[0][0]                \n",
      "__________________________________________________________________________________________________\n",
      "main_out (Dense)                (None, 1)            257         dropout_1[0][0]                  \n",
      "__________________________________________________________________________________________________\n",
      "aux_out (Dense)                 (None, 1)            301         global_average_pooling1d_1[0][0] \n",
      "==================================================================================================\n",
      "Total params: 12,732,826\n",
      "Trainable params: 12,732,314\n",
      "Non-trainable params: 512\n",
      "__________________________________________________________________________________________________\n"
     ]
    }
   ],
   "source": [
    "model = model_lstm.ModelLstm(\n",
    "    'model_lstm_embedding300D',\n",
    "    word_embedding_dim=300\n",
    ")\n",
    "\n",
    "model.summary()"
   ]
  },
  {
   "cell_type": "code",
   "execution_count": 7,
   "metadata": {},
   "outputs": [
    {
     "name": "stdout",
     "output_type": "stream",
     "text": [
      "Train on 1118162 samples, validate on 139770 samples\n",
      "Epoch 1/5\n",
      "1118162/1118162 [==============================] - 8491s 8ms/sample - loss: 0.6902 - main_out_loss: 0.5726 - aux_out_loss: 0.5882 - main_out_acc: 0.6722 - aux_out_acc: 0.6685 - val_loss: 0.6753 - val_main_out_loss: 0.5587 - val_aux_out_loss: 0.5833 - val_main_out_acc: 0.6813 - val_aux_out_acc: 0.6705\n",
      "Epoch 2/5\n",
      "1118162/1118162 [==============================] - 8595s 8ms/sample - loss: 0.6727 - main_out_loss: 0.5569 - aux_out_loss: 0.5787 - main_out_acc: 0.6800 - aux_out_acc: 0.6713 - val_loss: 0.6740 - val_main_out_loss: 0.5575 - val_aux_out_loss: 0.5826 - val_main_out_acc: 0.6809 - val_aux_out_acc: 0.6706\n",
      "Epoch 3/5\n",
      "1118162/1118162 [==============================] - 8498s 8ms/sample - loss: 0.6658 - main_out_loss: 0.5507 - aux_out_loss: 0.5759 - main_out_acc: 0.6847 - aux_out_acc: 0.6733 - val_loss: 0.6751 - val_main_out_loss: 0.5583 - val_aux_out_loss: 0.5843 - val_main_out_acc: 0.6798 - val_aux_out_acc: 0.6718\n",
      "Epoch 4/5\n",
      "1118162/1118162 [==============================] - 8498s 8ms/sample - loss: 0.6612 - main_out_loss: 0.5463 - aux_out_loss: 0.5745 - main_out_acc: 0.6891 - aux_out_acc: 0.6741 - val_loss: 0.6756 - val_main_out_loss: 0.5590 - val_aux_out_loss: 0.5830 - val_main_out_acc: 0.6801 - val_aux_out_acc: 0.6696\n",
      "Epoch 5/5\n",
      "1118162/1118162 [==============================] - 8426s 8ms/sample - loss: 0.6573 - main_out_loss: 0.5425 - aux_out_loss: 0.5737 - main_out_acc: 0.6922 - aux_out_acc: 0.6748 - val_loss: 0.6794 - val_main_out_loss: 0.5627 - val_aux_out_loss: 0.5837 - val_main_out_acc: 0.6757 - val_aux_out_acc: 0.6709\n"
     ]
    }
   ],
   "source": [
    "model.train(epochs=5, early_stop=False)"
   ]
  },
  {
   "cell_type": "code",
   "execution_count": 8,
   "metadata": {},
   "outputs": [
    {
     "name": "stdout",
     "output_type": "stream",
     "text": [
      "done\n"
     ]
    }
   ],
   "source": [
    "print('done')"
   ]
  }
 ],
 "metadata": {
  "kernelspec": {
   "display_name": "Python 3",
   "language": "python",
   "name": "python3"
  },
  "language_info": {
   "codemirror_mode": {
    "name": "ipython",
    "version": 3
   },
   "file_extension": ".py",
   "mimetype": "text/x-python",
   "name": "python",
   "nbconvert_exporter": "python",
   "pygments_lexer": "ipython3",
   "version": "3.7.3"
  }
 },
 "nbformat": 4,
 "nbformat_minor": 4
}
