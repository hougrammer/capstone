{
 "cells": [
  {
   "cell_type": "markdown",
   "metadata": {},
   "source": [
    "# Test Metrics"
   ]
  },
  {
   "cell_type": "code",
   "execution_count": 22,
   "metadata": {},
   "outputs": [],
   "source": [
    "import warnings\n",
    "warnings.filterwarnings('ignore')\n",
    "\n",
    "import psutil\n",
    "import os\n",
    "import pickle\n",
    "import numpy as np\n",
    "import tensorflow as tf"
   ]
  },
  {
   "cell_type": "code",
   "execution_count": 4,
   "metadata": {},
   "outputs": [],
   "source": [
    "# Load data\n",
    "with open('loaded_data.pickle', 'rb') as file:\n",
    "    payload = pickle.load(file)\n",
    "\n",
    "for k in payload.keys():\n",
    "    exec('{} = payload[\"{}\"]'.format(k, k))"
   ]
  },
  {
   "cell_type": "code",
   "execution_count": 24,
   "metadata": {},
   "outputs": [],
   "source": [
    "paths = [\n",
    "    'models/checkpoints/model_with_splits.49-1.29.hdf5',\n",
    "    'models/checkpoints/model_dropout0.5.06-1.15.hdf5',\n",
    "    'models/checkpoints/model_dropout0.5_noearlystop.02-0.68.hdf5',\n",
    "    'models/checkpoints/model_dropout0.5_no_earlystop_lossweights1.0,0.2.20-0.69.hdf5'\n",
    "]"
   ]
  },
  {
   "cell_type": "code",
   "execution_count": 25,
   "metadata": {},
   "outputs": [
    {
     "name": "stdout",
     "output_type": "stream",
     "text": [
      "models/checkpoints/model_with_splits.49-1.29.hdf5\n",
      " loss: 1.2994879484176636\n",
      " main_out_loss: 0.6923107504844666\n",
      " aux_out_loss: 0.607177197933197\n",
      " main_out_acc: 0.6472873687744141\n",
      " aux_out_acc: 0.6570246815681458\n",
      "\n",
      " Current memory usage: 2242359296 \n",
      "\n",
      "\n",
      "models/checkpoints/model_dropout0.5.06-1.15.hdf5\n",
      " loss: 1.1729602813720703\n",
      " main_out_loss: 0.5772444009780884\n",
      " aux_out_loss: 0.5957158803939819\n",
      " main_out_acc: 0.6738522052764893\n",
      " aux_out_acc: 0.6631060838699341\n",
      "\n",
      " Current memory usage: 2202619904 \n",
      "\n",
      "\n",
      "models/checkpoints/model_dropout0.5_noearlystop.02-0.68.hdf5\n",
      " loss: 0.6943164467811584\n",
      " main_out_loss: 0.575732409954071\n",
      " aux_out_loss: 0.5929200649261475\n",
      " main_out_acc: 0.6772506237030029\n",
      " aux_out_acc: 0.6693591475486755\n",
      "\n",
      " Current memory usage: 2229149696 \n",
      "\n",
      "\n",
      "models/checkpoints/model_dropout0.5_no_earlystop_lossweights1.0,0.2.20-0.69.hdf5\n",
      " loss: 0.6924781799316406\n",
      " main_out_loss: 0.5749649405479431\n",
      " aux_out_loss: 0.5875661373138428\n",
      " main_out_acc: 0.6746535301208496\n",
      " aux_out_acc: 0.6671555638313293\n",
      "\n",
      " Current memory usage: 2229149696 \n",
      "\n",
      "\n"
     ]
    }
   ],
   "source": [
    "process = psutil.Process(os.getpid())\n",
    "\n",
    "for path in paths:\n",
    "    model = tf.keras.models.load_model(path)\n",
    "    history = model.test_on_batch(\n",
    "        x=[titles_test, hours_test, weekdays_test, minutes_test, dates_test],\n",
    "        y=[is_top_submission_test, is_top_submission_test])\n",
    "    print(path)\n",
    "    print(' loss: {}\\n main_out_loss: {}\\n aux_out_loss: {}\\n main_out_acc: {}\\n aux_out_acc: {}'.format(*history))\n",
    "    print('\\n Current memory usage: {} \\n'.format(process.memory_info()[0]))\n",
    "    print()\n",
    "    tf.keras.backend.clear_session()"
   ]
  }
 ],
 "metadata": {
  "kernelspec": {
   "display_name": "Python 3",
   "language": "python",
   "name": "python3"
  },
  "language_info": {
   "codemirror_mode": {
    "name": "ipython",
    "version": 3
   },
   "file_extension": ".py",
   "mimetype": "text/x-python",
   "name": "python",
   "nbconvert_exporter": "python",
   "pygments_lexer": "ipython3",
   "version": "3.7.4"
  }
 },
 "nbformat": 4,
 "nbformat_minor": 4
}
