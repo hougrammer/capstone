{
 "cells": [
  {
   "cell_type": "code",
   "execution_count": 22,
   "metadata": {},
   "outputs": [
    {
     "data": {
      "text/plain": [
       "<module 'model_v0' from '/home/david/capstone/model_v0.py'>"
      ]
     },
     "execution_count": 22,
     "metadata": {},
     "output_type": "execute_result"
    }
   ],
   "source": [
    "from importlib import reload\n",
    "import model_v0\n",
    "reload(model_v0)"
   ]
  },
  {
   "cell_type": "code",
   "execution_count": 25,
   "metadata": {},
   "outputs": [
    {
     "name": "stdout",
     "output_type": "stream",
     "text": [
      "__________________________________________________________________________________________________\n",
      "Layer (type)                    Output Shape         Param #     Connected to                     \n",
      "==================================================================================================\n",
      "title_in (InputLayer)           (None, 20)           0                                            \n",
      "__________________________________________________________________________________________________\n",
      "hour_in (InputLayer)            (None, 1)            0                                            \n",
      "__________________________________________________________________________________________________\n",
      "weekday_in (InputLayer)         (None, 1)            0                                            \n",
      "__________________________________________________________________________________________________\n",
      "minute_in (InputLayer)          (None, 1)            0                                            \n",
      "__________________________________________________________________________________________________\n",
      "date_in (InputLayer)            (None, 1)            0                                            \n",
      "__________________________________________________________________________________________________\n",
      "embedding_20 (Embedding)        (None, 20, 200)      8000200     title_in[0][0]                   \n",
      "__________________________________________________________________________________________________\n",
      "embedding_21 (Embedding)        (None, 1, 64)        1536        hour_in[0][0]                    \n",
      "__________________________________________________________________________________________________\n",
      "embedding_22 (Embedding)        (None, 1, 64)        448         weekday_in[0][0]                 \n",
      "__________________________________________________________________________________________________\n",
      "embedding_23 (Embedding)        (None, 1, 64)        3840        minute_in[0][0]                  \n",
      "__________________________________________________________________________________________________\n",
      "embedding_24 (Embedding)        (None, 1, 64)        23424       date_in[0][0]                    \n",
      "__________________________________________________________________________________________________\n",
      "global_average_pooling1d_4 (Glo (None, 200)          0           embedding_20[0][0]               \n",
      "__________________________________________________________________________________________________\n",
      "reshape_16 (Reshape)            (None, 64)           0           embedding_21[0][0]               \n",
      "__________________________________________________________________________________________________\n",
      "reshape_17 (Reshape)            (None, 64)           0           embedding_22[0][0]               \n",
      "__________________________________________________________________________________________________\n",
      "reshape_18 (Reshape)            (None, 64)           0           embedding_23[0][0]               \n",
      "__________________________________________________________________________________________________\n",
      "reshape_19 (Reshape)            (None, 64)           0           embedding_24[0][0]               \n",
      "__________________________________________________________________________________________________\n",
      "concatenate_3 (Concatenate)     (None, 456)          0           global_average_pooling1d_4[0][0] \n",
      "                                                                 reshape_16[0][0]                 \n",
      "                                                                 reshape_17[0][0]                 \n",
      "                                                                 reshape_18[0][0]                 \n",
      "                                                                 reshape_19[0][0]                 \n",
      "__________________________________________________________________________________________________\n",
      "dense_3 (Dense)                 (None, 256)          116992      concatenate_3[0][0]              \n",
      "__________________________________________________________________________________________________\n",
      "batch_normalization_v1_3 (Batch (None, 256)          1024        dense_3[0][0]                    \n",
      "__________________________________________________________________________________________________\n",
      "dropout_2 (Dropout)             (None, 256)          0           batch_normalization_v1_3[0][0]   \n",
      "__________________________________________________________________________________________________\n",
      "main_out (Dense)                (None, 1)            257         dropout_2[0][0]                  \n",
      "__________________________________________________________________________________________________\n",
      "aux_out (Dense)                 (None, 1)            201         global_average_pooling1d_4[0][0] \n",
      "==================================================================================================\n",
      "Total params: 8,147,922\n",
      "Trainable params: 8,147,410\n",
      "Non-trainable params: 512\n",
      "__________________________________________________________________________________________________\n"
     ]
    }
   ],
   "source": [
    "model = model_v0.ModelV0(\n",
    "    model_name='model_v0_dropout0.5_lossWeights1.0,0.2_embedding300D',\n",
    "    word_embedding_dim=300\n",
    ")\n",
    "\n",
    "model.summary()"
   ]
  },
  {
   "cell_type": "code",
   "execution_count": 26,
   "metadata": {},
   "outputs": [
    {
     "name": "stdout",
     "output_type": "stream",
     "text": [
      "Train on 1118162 samples, validate on 139770 samples\n",
      "Epoch 1/10\n",
      "1118162/1118162 [==============================] - 1804s 2ms/sample - loss: 0.6975 - main_out_loss: 0.5800 - aux_out_loss: 0.5875 - main_out_acc: 0.6727 - aux_out_acc: 0.6684 - val_loss: 0.6830 - val_main_out_loss: 0.5664 - val_aux_out_loss: 0.5828 - val_main_out_acc: 0.6802 - val_aux_out_acc: 0.6669\n",
      "Epoch 2/10\n",
      "1118162/1118162 [==============================] - 1819s 2ms/sample - loss: 0.6816 - main_out_loss: 0.5659 - aux_out_loss: 0.5785 - main_out_acc: 0.6785 - aux_out_acc: 0.6709 - val_loss: 0.6819 - val_main_out_loss: 0.5656 - val_aux_out_loss: 0.5817 - val_main_out_acc: 0.6787 - val_aux_out_acc: 0.6685\n",
      "Epoch 3/10\n",
      "1118162/1118162 [==============================] - 1813s 2ms/sample - loss: 0.6764 - main_out_loss: 0.5612 - aux_out_loss: 0.5759 - main_out_acc: 0.6809 - aux_out_acc: 0.6722 - val_loss: 0.6803 - val_main_out_loss: 0.5638 - val_aux_out_loss: 0.5825 - val_main_out_acc: 0.6802 - val_aux_out_acc: 0.6668\n",
      "Epoch 4/10\n",
      "1118162/1118162 [==============================] - 1802s 2ms/sample - loss: 0.6732 - main_out_loss: 0.5583 - aux_out_loss: 0.5745 - main_out_acc: 0.6824 - aux_out_acc: 0.6733 - val_loss: 0.6813 - val_main_out_loss: 0.5647 - val_aux_out_loss: 0.5825 - val_main_out_acc: 0.6778 - val_aux_out_acc: 0.6696\n"
     ]
    }
   ],
   "source": [
    "model.train(epochs=10, early_stop=True)"
   ]
  }
 ],
 "metadata": {
  "kernelspec": {
   "display_name": "Python 3",
   "language": "python",
   "name": "python3"
  },
  "language_info": {
   "codemirror_mode": {
    "name": "ipython",
    "version": 3
   },
   "file_extension": ".py",
   "mimetype": "text/x-python",
   "name": "python",
   "nbconvert_exporter": "python",
   "pygments_lexer": "ipython3",
   "version": "3.7.4"
  }
 },
 "nbformat": 4,
 "nbformat_minor": 4
}
