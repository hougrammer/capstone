{
 "cells": [
  {
   "cell_type": "code",
   "execution_count": 1,
   "metadata": {},
   "outputs": [
    {
     "data": {
      "text/plain": [
       "<module 'model_lstm2' from '/home/david/capstone/model_lstm2.py'>"
      ]
     },
     "execution_count": 1,
     "metadata": {},
     "output_type": "execute_result"
    }
   ],
   "source": [
    "import warnings\n",
    "warnings.filterwarnings('ignore')\n",
    "\n",
    "import model_lstm2\n",
    "from importlib import reload\n",
    "reload(model_lstm2)"
   ]
  },
  {
   "cell_type": "code",
   "execution_count": 3,
   "metadata": {},
   "outputs": [
    {
     "name": "stdout",
     "output_type": "stream",
     "text": [
      "WARNING:tensorflow:From /home/david/anaconda3/envs/capstone/lib/python3.7/site-packages/tensorflow/python/ops/resource_variable_ops.py:435: colocate_with (from tensorflow.python.framework.ops) is deprecated and will be removed in a future version.\n",
      "Instructions for updating:\n",
      "Colocations handled automatically by placer.\n",
      "WARNING:tensorflow:From /home/david/anaconda3/envs/capstone/lib/python3.7/site-packages/tensorflow/python/keras/backend.py:4010: calling dropout (from tensorflow.python.ops.nn_ops) with keep_prob is deprecated and will be removed in a future version.\n",
      "Instructions for updating:\n",
      "Please use `rate` instead of `keep_prob`. Rate should be set to `rate = 1 - keep_prob`.\n"
     ]
    }
   ],
   "source": [
    "model = model_lstm2.ModelLstm2('model_lstm2')"
   ]
  },
  {
   "cell_type": "code",
   "execution_count": 4,
   "metadata": {},
   "outputs": [
    {
     "name": "stdout",
     "output_type": "stream",
     "text": [
      "__________________________________________________________________________________________________\n",
      "Layer (type)                    Output Shape         Param #     Connected to                     \n",
      "==================================================================================================\n",
      "title_in (InputLayer)           (None, 20)           0                                            \n",
      "__________________________________________________________________________________________________\n",
      "hour_in (InputLayer)            (None, 1)            0                                            \n",
      "__________________________________________________________________________________________________\n",
      "weekday_in (InputLayer)         (None, 1)            0                                            \n",
      "__________________________________________________________________________________________________\n",
      "minute_in (InputLayer)          (None, 1)            0                                            \n",
      "__________________________________________________________________________________________________\n",
      "date_in (InputLayer)            (None, 1)            0                                            \n",
      "__________________________________________________________________________________________________\n",
      "embedding (Embedding)           (None, 20, 50)       2000050     title_in[0][0]                   \n",
      "__________________________________________________________________________________________________\n",
      "embedding_1 (Embedding)         (None, 1, 64)        1536        hour_in[0][0]                    \n",
      "__________________________________________________________________________________________________\n",
      "embedding_2 (Embedding)         (None, 1, 64)        448         weekday_in[0][0]                 \n",
      "__________________________________________________________________________________________________\n",
      "embedding_3 (Embedding)         (None, 1, 64)        3840        minute_in[0][0]                  \n",
      "__________________________________________________________________________________________________\n",
      "embedding_4 (Embedding)         (None, 1, 64)        23424       date_in[0][0]                    \n",
      "__________________________________________________________________________________________________\n",
      "lstm (LSTM)                     (None, 256)          314368      embedding[0][0]                  \n",
      "__________________________________________________________________________________________________\n",
      "reshape (Reshape)               (None, 64)           0           embedding_1[0][0]                \n",
      "__________________________________________________________________________________________________\n",
      "reshape_1 (Reshape)             (None, 64)           0           embedding_2[0][0]                \n",
      "__________________________________________________________________________________________________\n",
      "reshape_2 (Reshape)             (None, 64)           0           embedding_3[0][0]                \n",
      "__________________________________________________________________________________________________\n",
      "reshape_3 (Reshape)             (None, 64)           0           embedding_4[0][0]                \n",
      "__________________________________________________________________________________________________\n",
      "concatenate (Concatenate)       (None, 512)          0           lstm[0][0]                       \n",
      "                                                                 reshape[0][0]                    \n",
      "                                                                 reshape_1[0][0]                  \n",
      "                                                                 reshape_2[0][0]                  \n",
      "                                                                 reshape_3[0][0]                  \n",
      "__________________________________________________________________________________________________\n",
      "dense (Dense)                   (None, 256)          131328      concatenate[0][0]                \n",
      "__________________________________________________________________________________________________\n",
      "batch_normalization_v1 (BatchNo (None, 256)          1024        dense[0][0]                      \n",
      "__________________________________________________________________________________________________\n",
      "dropout (Dropout)               (None, 256)          0           batch_normalization_v1[0][0]     \n",
      "__________________________________________________________________________________________________\n",
      "main_out (Dense)                (None, 1)            257         dropout[0][0]                    \n",
      "__________________________________________________________________________________________________\n",
      "aux_out (Dense)                 (None, 1)            257         lstm[0][0]                       \n",
      "==================================================================================================\n",
      "Total params: 2,476,532\n",
      "Trainable params: 2,476,020\n",
      "Non-trainable params: 512\n",
      "__________________________________________________________________________________________________\n"
     ]
    }
   ],
   "source": [
    "model.summary()"
   ]
  },
  {
   "cell_type": "code",
   "execution_count": 5,
   "metadata": {},
   "outputs": [
    {
     "name": "stdout",
     "output_type": "stream",
     "text": [
      "Train on 1118162 samples, validate on 139770 samples\n",
      "WARNING:tensorflow:From /home/david/anaconda3/envs/capstone/lib/python3.7/site-packages/tensorflow/python/ops/math_ops.py:3066: to_int32 (from tensorflow.python.ops.math_ops) is deprecated and will be removed in a future version.\n",
      "Instructions for updating:\n",
      "Use tf.cast instead.\n",
      "Epoch 1/5\n",
      "1118162/1118162 [==============================] - 4817s 4ms/sample - loss: 0.6915 - main_out_loss: 0.5769 - aux_out_loss: 0.5730 - main_out_acc: 0.6718 - aux_out_acc: 0.6738 - val_loss: 0.6716 - val_main_out_loss: 0.5597 - val_aux_out_loss: 0.5599 - val_main_out_acc: 0.6788 - val_aux_out_acc: 0.6785\n",
      "Epoch 2/5\n",
      "1118162/1118162 [==============================] - 4771s 4ms/sample - loss: 0.6717 - main_out_loss: 0.5602 - aux_out_loss: 0.5574 - main_out_acc: 0.6782 - aux_out_acc: 0.6784 - val_loss: 0.6692 - val_main_out_loss: 0.5573 - val_aux_out_loss: 0.5592 - val_main_out_acc: 0.6812 - val_aux_out_acc: 0.6792\n",
      "Epoch 3/5\n",
      "1118162/1118162 [==============================] - 4683s 4ms/sample - loss: 0.6653 - main_out_loss: 0.5549 - aux_out_loss: 0.5522 - main_out_acc: 0.6819 - aux_out_acc: 0.6827 - val_loss: 0.6690 - val_main_out_loss: 0.5571 - val_aux_out_loss: 0.5598 - val_main_out_acc: 0.6796 - val_aux_out_acc: 0.6744\n",
      "Epoch 4/5\n",
      "1118162/1118162 [==============================] - 4733s 4ms/sample - loss: 0.6608 - main_out_loss: 0.5511 - aux_out_loss: 0.5484 - main_out_acc: 0.6849 - aux_out_acc: 0.6857 - val_loss: 0.6689 - val_main_out_loss: 0.5570 - val_aux_out_loss: 0.5594 - val_main_out_acc: 0.6809 - val_aux_out_acc: 0.6775\n",
      "Epoch 5/5\n",
      "1118162/1118162 [==============================] - 4181s 4ms/sample - loss: 0.6568 - main_out_loss: 0.5478 - aux_out_loss: 0.5453 - main_out_acc: 0.6878 - aux_out_acc: 0.6885 - val_loss: 0.6776 - val_main_out_loss: 0.5644 - val_aux_out_loss: 0.5660 - val_main_out_acc: 0.6674 - val_aux_out_acc: 0.6642\n"
     ]
    }
   ],
   "source": [
    "model.train(epochs=5)"
   ]
  }
 ],
 "metadata": {
  "kernelspec": {
   "display_name": "Python 3",
   "language": "python",
   "name": "python3"
  },
  "language_info": {
   "codemirror_mode": {
    "name": "ipython",
    "version": 3
   },
   "file_extension": ".py",
   "mimetype": "text/x-python",
   "name": "python",
   "nbconvert_exporter": "python",
   "pygments_lexer": "ipython3",
   "version": "3.7.4"
  }
 },
 "nbformat": 4,
 "nbformat_minor": 4
}
